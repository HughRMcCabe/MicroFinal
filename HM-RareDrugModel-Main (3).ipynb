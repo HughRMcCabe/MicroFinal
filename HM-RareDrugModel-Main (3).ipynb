{
 "cells": [
  {
   "cell_type": "markdown",
   "id": "14844e0f-3b73-4b36-881b-13e8e5311ece",
   "metadata": {},
   "source": [
    "# Modeling Orphan Drug (Rare Disease) Companies Expenditure Minimization Problem"
   ]
  },
  {
   "cell_type": "code",
   "execution_count": 24,
   "id": "1f4309ee-8336-4dc2-811a-e0006245a0cd",
   "metadata": {},
   "outputs": [],
   "source": [
    "#Importing Necessary Packages\n",
    "# import all functions from python labrary: sympy\n",
    "from sympy import *\n",
    "# set sympy output to print pretty math expressions\n",
    "init_printing()"
   ]
  },
  {
   "cell_type": "markdown",
   "id": "32c897a0-5d81-4d66-a699-c9f2e84abc6d",
   "metadata": {},
   "source": [
    "# Table of Contents:\n",
    "### A. [Introduction](#introduction)\n",
    "### B. [Model Setup](#setup)\n",
    "##### 1.[Variables](#variables)\n",
    "##### 2.[Assumptions - Brief](#assumptionsA)\n",
    "##### 3.[Rationale behind the model - breaking it down](#rationaleA)\n",
    "##### 4.[Putting it back together](#rationaleB)\n",
    "##### 5.[Assumptions Continued](#assumptionsB)\n",
    "### C. [Sympy Analysis](#sympy)\n",
    "##### 1. [FOCs, Lagrangian, optimal choices](#focs)\n",
    "##### 2. [Visual Components](#visuals)\n",
    "##### 3. [Comparative statics](#statics)\n",
    "### D. [Conclusion and Discussion](#conclusion)\n",
    "##### 1. [Optimal Choices](#choices)\n",
    "##### 2. [Comparative Statics](#compare)\n",
    "##### 3. [Model Limitations](#limits)\n",
    "##### 4. [Extensions](#Extensions)\n",
    "### E. [AI Memo and References](#ref)"
   ]
  },
  {
   "cell_type": "markdown",
   "id": "2113c97b-335f-4414-a12f-1f44c60306c6",
   "metadata": {},
   "source": [
    "## Introduction <a class=\"anchor\" id=\"introduction\"></a>\n",
    "\n",
    "As a biochemistry and economics double major I am always fascinated by the places these two areas of study intersect. I have found myself interested in pharmacaeuticals and biotech as they are deeply intertwined in those sectors. In deepening my interests I have learned about rare-disease companies, sometimes referred to as Orphan Drug companies. I was immediately struck by these companies because they are in a unique position from their small market size and inelasticity of their product. I wondered how they operated, and what sort of tradeoffs they were faced with, primarily how did they balance such high costs and imposing them on small numbers of vulnerable, and desparate customers. While reading further about these companies I saw they often were under fire from the public for price gauging, and being harmful to the lives of patients by imposing incredible financial burdens on them.\n",
    "\n",
    "This made me wonder - how could these companies account for the harm created by the pricing of their drugs when making decisions for their companies? I decided to approach this through an expenditure minimization model because I wanted the angle to be most beneficial towards patient outcomes. I wanted to know what was the smallest amount companies could spend while also reaching a treatment that provides utility to the patient, how would their investment recoupment impact the utility of the drug? I wanted to create a model that balanced R&D advancements and harms put on the patients.\n",
    "\n",
    "So my research question became: How do I model rare-drug companies expenditure minimization problem in a way that has a focus on harms placed on patients from pricing and development. \n"
   ]
  },
  {
   "cell_type": "markdown",
   "id": "5cba0ea2-b738-4454-94d9-e6fb4e053baa",
   "metadata": {
    "jp-MarkdownHeadingCollapsed": true
   },
   "source": [
    "## Model Setup <a class=\"anchor\" id=\"setup\"></a>\n",
    "\\begin{align} \n",
    "& \\underset{F,p_{d}}{min} = p_{d}\\overline{q} + F\\\\\n",
    "& s.t \\quad \\frac{(p_{d}F\\overline{q})^{\\alpha}}{(rp_{d}\\overline{q})^{\\beta}} = \\overline{U}\\\\\\\\\n",
    "&  \\mathbb{L} =  \\overline{q}p_{d} + F + {\\lambda}(\\overline{U} - \\frac{(F\\overline{q}p_{d})^a}{(\\overline{q}p_{d}r)^b})\n",
    "\\end{align}\n",
    "\n",
    "### 1. Variables  <a class=\"anchor\" id=\"variables\"></a>\n",
    "\n",
    "\\begin{align}\n",
    "& p_{d} = \\text{marginal cost to produce drug,} \\quad F =\\text{R\\&D investment,} \\quad q = \\text{number of patients / customers,}\\\\\n",
    "& \\overline{U} = \\text{utility requirement for drug,} \\quad r = \\text{revenue coefficient,} \\quad {\\alpha} = \\text{effectiveness of R\\&D,} \\quad {\\beta} = \\text{sensitivity to pricing harms}\n",
    "\\end{align}\n",
    "\n",
    "### 2. Assumptions - Brief <a class=\"anchor\" id=\"asssumeptionsA\"></a>\n",
    "\n",
    "\\begin{align}               \n",
    " & p_{d} > 0, \\quad \\overline{q} > 0, \\quad F > 0, \\\\\n",
    " & {\\alpha} > 0, \\quad {\\beta} > 0, \\quad r > 1, \\quad \\overline{U} > 0\\\\\n",
    " & {\\alpha} + {\\beta} = 1, {\\alpha} > {\\beta}\n",
    "\\end{align}\n",
    "\n",
    "### 3. Rationale Behind the Model - Breaking it down <a class=\"anchor\" id=\"rationaleA\"></a>\n",
    "\n",
    "\\begin{align}\n",
    "& \\text{The objective function: } \\underset{F,p_{d}}{min} = p_{d}\\overline{q} + F\\text{, represents that the cost incurred by a firm is generated by their cost to produce the drug}\\\\\n",
    "& \\text{multiplied by the number of patients recieving the drug, and their research and development investments.}\\\\\n",
    "& \\\\\n",
    "& \\text{The constraint AKA research function: } \\frac{(p_{d}F\\overline{q})^{\\alpha}}{(rp_{d}q)^{\\beta}} = \\overline{U} \\text{, represents that there are tradeoffs between advancements: } (F\\overline{q})^{\\alpha} \\text{, and harms: } (rp_{d}q)^{\\beta},\\\\\n",
    "& \\text{that have to be combined in a way that reaches the desired utility of the drug: } \\overline{U}\\\\\n",
    "&\\\\ \n",
    "& \\text{Advancements :} (p_{d}F\\overline{q})^{\\alpha} \\text{, represents how R\\&D investments and production cost are distributed to patients by increasing the utility of the drug they} \\\\\n",
    "& \\text{receive, and will be associated with some level of effectiveness that determines how useful the R\\&D investments have been distributed to patients, } {\\alpha}\\\\\n",
    "&\\\\ \n",
    "& \\text{Harms : } (rp_{d}q)^{\\beta} \\text{ represents how the pricing of drugs is associated with some amount of revenue, r, gained per drug sold to each patient to}\\\\\n",
    "&\\text{recoup investments, } p_{d}\\overline{q} \\text{ and that pricing decreases the utility of the drug by burdening the patient which may decrease their health in other aspects.}\\\\\n",
    "&\\text{This is associated with some sensitivity to how harmful these factors will be given a certain drug, } {\\beta} \n",
    "\\end{align}\n",
    "\n",
    "### 4. Putting it back together <a class=\"anchor\" id=\"rationaleB\"></a>\n",
    "\\begin{align}\n",
    "&\\text{This model tells the story that rare drug companies are selling to a fixed population of patients, and incur costs from producing the drug and investing in}\\\\ \n",
    "&\\text{its development.}\\\\\\\\\n",
    "&\\text{Additionally, they are tasked with reaching a certain utility requirement for the drug, and faced with tradeoffs by their decisions in R\\&D investments}\\\\\n",
    "&\\text{and harms generated by investment recoupment in each sale to patients}\\\\\n",
    "\\\\\n",
    "\\end{align}\n",
    "\n",
    "### 5. Assumptions continued <a id=\"assumptionsB\"></a>\n",
    "\n",
    "\\begin{align}\n",
    "&\\text{We assume the decision maker is rational and seeking the optimal outcome}\\\\\n",
    "&\\text{We assume the firm has exlusivity on their market}\\\\\n",
    "&\\text{We assume F to be the net price a firm will spend on R\\&D, incorporating benefits from tax incentives already}\\\\\n",
    "&\\text{We assume, } p_{d} \\; \\text{and } F \\text{ to be > 0 because in this model you cannot have negative expenditure}\\\\\n",
    "&\\text{We assume } \\overline{q} \\; \\text{to be > 1 because the rare drug company cannot have less than 1 whole human being as a patient}\\\\\n",
    "&\\text{We assume } \\overline{U} \\; \\text{to be > 0 because the drug must contribute to the patients well-being}\\\\\n",
    "&\\text{We assume } r \\; \\text{to be > 1 because the firm is recouping investment returns and must sell for more than the marginal cost of production}\\\\\n",
    "&\\text{We assume } {\\alpha} + {\\beta} \\; \\text{to both be between 0 and 1, and to add up to one, and for } {\\beta} < {\\alpha} \\text{ because these values represent 100 percent of the firms}\\\\\n",
    "& \\text{decisions, so }{\\alpha} \\text{ would be percent of choices gone to advancement and } {\\beta} \\text{ would be percent of choices resulting in harm.}\\\\\n",
    "&\\text{In this we also assume the firm would not produce the drug unless more advancement is being created than harm.}\n",
    "\\end{align}"
   ]
  },
  {
   "cell_type": "markdown",
   "id": "b9c902c3-7368-4d63-8d12-2da6ecba9271",
   "metadata": {},
   "source": [
    "# C. Sympy Analysis <a class=\"anchor\" id=\"sympy\"></a>"
   ]
  },
  {
   "cell_type": "markdown",
   "id": "d42c2cd4-4ba4-4953-927e-a0e28cc53342",
   "metadata": {},
   "source": [
    "## 1. FOCs, Lagrangian, and finding optimal choices <a class=\"anchor\" id=\"focs\"></a>"
   ]
  },
  {
   "cell_type": "code",
   "execution_count": 35,
   "id": "1542a498-14ae-4487-8061-b9a6d24385bd",
   "metadata": {},
   "outputs": [],
   "source": [
    "#Defining symbols in the model for analysis by python\n",
    "\n",
    "#Choice variables as symbols\n",
    "F, p = symbols('F p_{d}', nonzero = True, positive = True)\n",
    "\n",
    "#Fixed variables \n",
    "q, U  = symbols(r'\\overline{q} \\overline{U}', nonzero =True, positive = True)\n",
    "\n",
    "#Coefficients and exponentials\n",
    "a, b, r = symbols('a b r', nonzero = True, positive = True)\n",
    "\n",
    "#Lagrangian symbols\n",
    "lam  = symbols(r'{\\lambda}', nonzero = True, positive = True)"
   ]
  },
  {
   "cell_type": "code",
   "execution_count": 37,
   "id": "78caeaf6-45cf-465d-9ea3-465f495f2e59",
   "metadata": {},
   "outputs": [
    {
     "data": {
      "image/png": "[encoded data removed]",
      "text/latex": [
       "$\\displaystyle F + \\overline{q} p_{d} + {\\lambda} \\left(\\overline{U} - \\left(F \\overline{q} p_{d}\\right)^{a} \\left(\\overline{q} p_{d} r\\right)^{- b}\\right)$"
      ],
      "text/plain": [
       "                                   ⎛                                     a    \n",
       "F + \\overline{q}⋅p_{d} + {\\lambda}⋅⎝\\overline{U} - (F⋅\\overline{q}⋅p_{d}) ⋅(\\o\n",
       "\n",
       "                   -b⎞\n",
       "verline{q}⋅p_{d}⋅r)  ⎠"
      ]
     },
     "execution_count": 37,
     "metadata": {},
     "output_type": "execute_result"
    }
   ],
   "source": [
    "#Setting up the model \n",
    "#objective function \n",
    "obj = p*q + F\n",
    "\n",
    "#utility constraint\n",
    "utility = ((p*F*q)**a)/((r*p*q)**b) \n",
    "\n",
    "#Setting up the lagrangian\n",
    "\n",
    "lagr = p*q + F + lam * (U - utility)\n",
    "lagr"
   ]
  },
  {
   "cell_type": "code",
   "execution_count": 38,
   "id": "5e94e61c-da58-4cff-ad79-27cbdd9f2803",
   "metadata": {},
   "outputs": [],
   "source": [
    "#Defining our FOCs\n",
    "foc_F = diff(lagr, F)\n",
    "foc_p = diff(lagr, p)\n",
    "foc_lam = diff(lagr, lam)"
   ]
  },
  {
   "cell_type": "code",
   "execution_count": 41,
   "id": "69316f1f-d0ab-4141-b74e-82f1ae12dad3",
   "metadata": {},
   "outputs": [],
   "source": [
    "#Simplifying our FOCs\n",
    "foc_F = foc_F.simplify()\n",
    "foc_p = foc_p.simplify()\n",
    "foc_lam = foc_lam.simplify()\n"
   ]
  },
  {
   "cell_type": "code",
   "execution_count": 43,
   "id": "852206d8-398b-43bd-b204-4555bacb00dd",
   "metadata": {},
   "outputs": [
    {
     "data": {
      "image/png": "[encoded data removed]",
      "text/latex": [
       "$\\displaystyle \\left[ \\left( \\frac{a^{\\frac{a}{2 a - b}} \\left(\\overline{U} \\overline{q}^{b} r^{b} \\left(a^{- \\frac{a}{2 a - b}} \\left(\\overline{U}^{\\frac{1}{a}} \\overline{q}^{\\frac{- 2 a + b}{a}} r^{\\frac{b}{a}} \\left(a - b\\right)\\right)^{\\frac{a}{2 a - b}}\\right)^{b}\\right)^{\\frac{1}{a}} \\left(\\overline{U}^{\\frac{1}{a}} \\overline{q}^{\\frac{- 2 a + b}{a}} r^{\\frac{b}{a}} \\left(a - b\\right)\\right)^{- \\frac{a}{2 a - b}}}{\\overline{q}}, \\  \\left(\\frac{\\overline{U}^{\\frac{1}{a}} \\overline{q}^{\\frac{- 2 a + b}{a}} r^{\\frac{b}{a}} \\left(a - b\\right)}{a}\\right)^{\\frac{a}{2 a - b}}, \\  \\frac{\\overline{U}^{\\frac{1 - a}{a}} r^{\\frac{b}{a}} \\left(\\overline{q} a^{- \\frac{a}{2 a - b}} \\left(\\overline{U}^{\\frac{1}{a}} \\overline{q}^{\\frac{- 2 a + b}{a}} r^{\\frac{b}{a}} \\left(a - b\\right)\\right)^{\\frac{a}{2 a - b}}\\right)^{\\frac{- a + b}{a}}}{a}\\right)\\right]$"
      ],
      "text/plain": [
       "⎡⎛                                                                            \n",
       "⎢⎜                  __________________________________________________________\n",
       "⎢⎜                 ╱                                                          \n",
       "⎢⎜                ╱                                ⎛                          \n",
       "⎢⎜               ╱                                 ⎜                          \n",
       "⎢⎜              ╱                                  ⎜                          \n",
       "⎢⎜    a        ╱                                   ⎜   -a    ⎛                \n",
       "⎢⎜ ───────    ╱                                    ⎜ ─────── ⎜                \n",
       "⎢⎜ 2⋅a - b a ╱                                b  b ⎜ 2⋅a - b ⎜a ______________\n",
       "⎢⎜a       ⋅╲╱        \\overline{U}⋅\\overline{q} ⋅r ⋅⎝a       ⋅⎝╲╱ \\overline{U} \n",
       "⎢⎜────────────────────────────────────────────────────────────────────────────\n",
       "⎣⎝                                                                            \n",
       "\n",
       "                                                                              \n",
       "___________________________________________                                   \n",
       "                                         b                                    \n",
       "                                    a   ⎞                                     \n",
       "                                 ───────⎟                                     \n",
       "                                 2⋅a - b⎟                                     \n",
       "             -2⋅a + b  b        ⎞       ⎟   ⎛                             -2⋅a\n",
       "             ────────  ─        ⎟       ⎟   ⎜                             ────\n",
       "                a      a        ⎟       ⎟   ⎜a ______________                a\n",
       "⋅\\overline{q}        ⋅r ⋅(a - b)⎠       ⎠  ⋅⎝╲╱ \\overline{U} ⋅\\overline{q}    \n",
       "──────────────────────────────────────────────────────────────────────────────\n",
       "       \\overline{q}                                                           \n",
       "\n",
       "                                                                              \n",
       "                                                                              \n",
       "                                                                              \n",
       "                  -a                                                          \n",
       "                ───────                                                    ───\n",
       "                2⋅a - b                                                    2⋅a\n",
       " + b  b        ⎞         ⎛                             -2⋅a + b  b        ⎞   \n",
       "────  ─        ⎟         ⎜                             ────────  ─        ⎟   \n",
       "      a        ⎟         ⎜a ______________                a      a        ⎟   \n",
       "    ⋅r ⋅(a - b)⎠         ⎜╲╱ \\overline{U} ⋅\\overline{q}        ⋅r ⋅(a - b)⎟   \n",
       "───────────────────────, ⎜────────────────────────────────────────────────⎟   \n",
       "                         ⎝                       a                        ⎠   \n",
       "\n",
       "                                                                              \n",
       "                                                                              \n",
       "                                                                              \n",
       "a                          ⎛                                                  \n",
       "────                       ⎜                                                  \n",
       " - b                       ⎜                                                  \n",
       "                  1 - a  b ⎜                -a    ⎛                           \n",
       "                  ─────  ─ ⎜              ─────── ⎜                           \n",
       "                    a    a ⎜              2⋅a - b ⎜a ______________           \n",
       "      \\overline{U}     ⋅r ⋅⎝\\overline{q}⋅a       ⋅⎝╲╱ \\overline{U} ⋅\\overline{\n",
       "    , ────────────────────────────────────────────────────────────────────────\n",
       "                                                           a                  \n",
       "\n",
       "                              -a + b⎞⎤\n",
       "                              ──────⎟⎥\n",
       "                                a   ⎟⎥\n",
       "                         a   ⎞      ⎟⎥\n",
       "                      ───────⎟      ⎟⎥\n",
       "                      2⋅a - b⎟      ⎟⎥\n",
       "  -2⋅a + b  b        ⎞       ⎟      ⎟⎥\n",
       "  ────────  ─        ⎟       ⎟      ⎟⎥\n",
       "     a      a        ⎟       ⎟      ⎟⎥\n",
       "q}        ⋅r ⋅(a - b)⎠       ⎠      ⎟⎥\n",
       "────────────────────────────────────⎟⎥\n",
       "                                    ⎠⎦"
      ]
     },
     "execution_count": 43,
     "metadata": {},
     "output_type": "execute_result"
    }
   ],
   "source": [
    "#Solving FOCs for F*, p*, and lam*\n",
    "foc_sol = solve( ( diff(lagr,F), diff(lagr,p), diff(lagr,lam) ), [F,p,lam])\n",
    "foc_sol"
   ]
  },
  {
   "cell_type": "code",
   "execution_count": 1033,
   "id": "d61f30e1-c4b9-4db0-88c7-2cbefab8a7e3",
   "metadata": {},
   "outputs": [
    {
     "data": {
      "image/png": "[encoded data removed]",
      "text/latex": [
       "$\\displaystyle \\frac{a^{\\frac{a}{2 a - b}} \\left(\\overline{U} \\overline{q}^{b} r^{b} \\left(a^{- \\frac{a}{2 a - b}} \\left(\\overline{U}^{\\frac{1}{a}} \\overline{q}^{\\frac{- 2 a + b}{a}} r^{\\frac{b}{a}} \\left(a - b\\right)\\right)^{\\frac{a}{2 a - b}}\\right)^{b}\\right)^{\\frac{1}{a}} \\left(\\overline{U}^{\\frac{1}{a}} \\overline{q}^{\\frac{- 2 a + b}{a}} r^{\\frac{b}{a}} \\left(a - b\\right)\\right)^{- \\frac{a}{2 a - b}}}{\\overline{q}}$"
      ],
      "text/plain": [
       "                  ____________________________________________________________\n",
       "                 ╱                                                            \n",
       "                ╱                                ⎛                            \n",
       "               ╱                                 ⎜                            \n",
       "              ╱                                  ⎜                            \n",
       "    a        ╱                                   ⎜   -a    ⎛                  \n",
       " ───────    ╱                                    ⎜ ─────── ⎜                  \n",
       " 2⋅a - b a ╱                                b  b ⎜ 2⋅a - b ⎜a ______________  \n",
       "a       ⋅╲╱        \\overline{U}⋅\\overline{q} ⋅r ⋅⎝a       ⋅⎝╲╱ \\overline{U} ⋅\\\n",
       "──────────────────────────────────────────────────────────────────────────────\n",
       "                                                                              \n",
       "\n",
       "_________________________________________                                     \n",
       "                                       b                                      \n",
       "                                  a   ⎞                                       \n",
       "                               ───────⎟                                       \n",
       "                               2⋅a - b⎟                                       \n",
       "           -2⋅a + b  b        ⎞       ⎟   ⎛                             -2⋅a +\n",
       "           ────────  ─        ⎟       ⎟   ⎜                             ──────\n",
       "              a      a        ⎟       ⎟   ⎜a ______________                a  \n",
       "overline{q}        ⋅r ⋅(a - b)⎠       ⎠  ⋅⎝╲╱ \\overline{U} ⋅\\overline{q}      \n",
       "──────────────────────────────────────────────────────────────────────────────\n",
       "     \\overline{q}                                                             \n",
       "\n",
       "                     \n",
       "                     \n",
       "                -a   \n",
       "              ───────\n",
       "              2⋅a - b\n",
       " b  b        ⎞       \n",
       "──  ─        ⎟       \n",
       "    a        ⎟       \n",
       "  ⋅r ⋅(a - b)⎠       \n",
       "─────────────────────\n",
       "                     "
      ]
     },
     "execution_count": 1033,
     "metadata": {},
     "output_type": "execute_result"
    }
   ],
   "source": [
    "Fstar = simplify(sol_list[0][0])\n",
    "Fstar"
   ]
  },
  {
   "cell_type": "code",
   "execution_count": 1133,
   "id": "9aa682b7-98de-4f95-ba6c-b2987050d10c",
   "metadata": {},
   "outputs": [
    {
     "data": {
      "image/png": "[encoded data removed]",
      "text/latex": [
       "$\\displaystyle \\left(\\frac{\\overline{U}^{\\frac{1}{a}} \\overline{q}^{\\frac{- 2 a + b}{a}} r^{\\frac{b}{a}} \\left(a - b\\right)}{a}\\right)^{\\frac{a}{2 a - b}}$"
      ],
      "text/plain": [
       "                                                     a   \n",
       "                                                  ───────\n",
       "                                                  2⋅a - b\n",
       "⎛                             -2⋅a + b  b        ⎞       \n",
       "⎜                             ────────  ─        ⎟       \n",
       "⎜a ______________                a      a        ⎟       \n",
       "⎜╲╱ \\overline{U} ⋅\\overline{q}        ⋅r ⋅(a - b)⎟       \n",
       "⎜────────────────────────────────────────────────⎟       \n",
       "⎝                       a                        ⎠       "
      ]
     },
     "execution_count": 1133,
     "metadata": {},
     "output_type": "execute_result"
    }
   ],
   "source": [
    "pstar = simplify(sol_list[0][1])\n",
    "pstar"
   ]
  },
  {
   "cell_type": "code",
   "execution_count": 1736,
   "id": "191fd431-04cf-45c3-9985-873b94557542",
   "metadata": {},
   "outputs": [
    {
     "data": {
      "image/png": "[encoded data removed]",
      "text/latex": [
       "$\\displaystyle a^{- \\frac{a}{2 a - b}} \\left(\\overline{U}^{\\frac{1}{a}} r^{\\frac{b}{a}} \\left(a - b\\right)\\right)^{- \\frac{a}{2 a - b}} \\left(a^{\\frac{2 a}{2 a - b}} \\left(\\overline{U} \\left(\\overline{q}^{- \\frac{2 a}{2 a - b}} a^{- \\frac{a}{2 a - b}} \\left(\\overline{U}^{\\frac{1}{a}} \\overline{q}^{\\frac{b}{a}} r^{\\frac{b}{a}} \\left(a - b\\right)\\right)^{\\frac{a}{2 a - b}}\\right)^{b}\\right)^{\\frac{1}{a}} \\left(\\overline{q} r\\right)^{\\frac{b}{a}} + \\left(\\overline{U}^{\\frac{1}{a}} r^{\\frac{b}{a}} \\left(a - b\\right)\\right)^{\\frac{2 a}{2 a - b}}\\right)$"
      ],
      "text/plain": [
       "                                              ⎛                  _____________\n",
       "                                              ⎜                 ╱             \n",
       "                                        -a    ⎜                ╱              \n",
       "                                      ─────── ⎜               ╱               \n",
       "                                      2⋅a - b ⎜              ╱                \n",
       "   -a    ⎛                  b        ⎞        ⎜   2⋅a       ╱                 \n",
       " ─────── ⎜                  ─        ⎟        ⎜ ───────    ╱                  \n",
       " 2⋅a - b ⎜a ______________  a        ⎟        ⎜ 2⋅a - b a ╱                   \n",
       "a       ⋅⎝╲╱ \\overline{U} ⋅r ⋅(a - b)⎠       ⋅⎝a       ⋅╲╱        \\overline{U}\n",
       "\n",
       "______________________________________________________________________________\n",
       "                                                                              \n",
       " ⎛                                                                           a\n",
       " ⎜                                                                        ────\n",
       " ⎜                                                                        2⋅a \n",
       " ⎜             -2⋅a      -a    ⎛                             b  b        ⎞    \n",
       " ⎜            ───────  ─────── ⎜                             ─  ─        ⎟    \n",
       " ⎜            2⋅a - b  2⋅a - b ⎜a ______________             a  a        ⎟    \n",
       "⋅⎝\\overline{q}       ⋅a       ⋅⎝╲╱ \\overline{U} ⋅\\overline{q} ⋅r ⋅(a - b)⎠    \n",
       "\n",
       "______                                                         ⎞\n",
       "    b                                                          ⎟\n",
       "   ⎞                                                      2⋅a  ⎟\n",
       "───⎟                                                    ───────⎟\n",
       "- b⎟                                                    2⋅a - b⎟\n",
       "   ⎟                   b   ⎛                  b        ⎞       ⎟\n",
       "   ⎟                   ─   ⎜                  ─        ⎟       ⎟\n",
       "   ⎟                   a   ⎜a ______________  a        ⎟       ⎟\n",
       "   ⎠  ⋅(\\overline{q}⋅r)  + ⎝╲╱ \\overline{U} ⋅r ⋅(a - b)⎠       ⎠"
      ]
     },
     "execution_count": 1736,
     "metadata": {},
     "output_type": "execute_result"
    }
   ],
   "source": [
    "#Creating the cost function\n",
    "C = (p*q + F).subs([(F,Fstar), (p,pstar)])\n",
    "# simplify function does not work well here, but we can further simplify by hand\n",
    "C.simplify()"
   ]
  },
  {
   "cell_type": "markdown",
   "id": "98dd6287-132b-4c33-a23d-f4539ecadff5",
   "metadata": {},
   "source": [
    "## 2. Visual components  - See other attached Jupyter notebook <a class=\"anchor\" id=\"visuals\"></a>"
   ]
  },
  {
   "cell_type": "markdown",
   "id": "39501d21-8be6-45b6-bc89-96d93be32659",
   "metadata": {},
   "source": [
    "## 3. Comparative statics <a class=\"anchor\" id=\"statics\"></a>"
   ]
  },
  {
   "cell_type": "code",
   "execution_count": 1632,
   "id": "03681696-37db-4ef5-9f67-834635c81200",
   "metadata": {},
   "outputs": [
    {
     "data": {
      "image/png": "[encoded data removed]",
      "text/latex": [
       "$\\displaystyle \\frac{a^{- \\frac{a}{2 a - b}} \\left(\\overline{U}^{\\frac{1}{a}} r^{\\frac{b}{a}} \\left(a - b\\right)\\right)^{\\frac{a}{2 a - b}} \\left(- a b \\log{\\left(a - b \\right)} + 2 a b + b^{2} \\log{\\left(a - b \\right)} - b^{2} + \\log{\\left(\\overline{U}^{- 2 a + 2 b} a^{b \\left(a - b\\right)} r^{2 b \\left(- a + b\\right)} \\right)}\\right)}{\\overline{q} \\left(4 a^{3} - 8 a^{2} b + 5 a b^{2} - b^{3}\\right)}$"
      ],
      "text/plain": [
       "                                         a                                    \n",
       "                                      ───────                                 \n",
       "                                      2⋅a - b                                 \n",
       "   -a    ⎛                  b        ⎞                                        \n",
       " ─────── ⎜                  ─        ⎟                                        \n",
       " 2⋅a - b ⎜a ______________  a        ⎟        ⎛                           2   \n",
       "a       ⋅⎝╲╱ \\overline{U} ⋅r ⋅(a - b)⎠       ⋅⎝-a⋅b⋅log(a - b) + 2⋅a⋅b + b ⋅lo\n",
       "──────────────────────────────────────────────────────────────────────────────\n",
       "                                                                  ⎛   3      2\n",
       "                                                     \\overline{q}⋅⎝4⋅a  - 8⋅a \n",
       "\n",
       "                                                                     \n",
       "                                                                     \n",
       "                                                                     \n",
       "                                                                     \n",
       "                                                                     \n",
       "            2      ⎛            -2⋅a + 2⋅b  b⋅(a - b)  2⋅b⋅(-a + b)⎞⎞\n",
       "g(a - b) - b  + log⎝\\overline{U}          ⋅a         ⋅r            ⎠⎠\n",
       "─────────────────────────────────────────────────────────────────────\n",
       "          2    3⎞                                                    \n",
       "⋅b + 5⋅a⋅b  - b ⎠                                                    "
      ]
     },
     "execution_count": 1632,
     "metadata": {},
     "output_type": "execute_result"
    }
   ],
   "source": [
    "#Calculating solution for pd* diff a\n",
    "p_diff_a = simplify(pstar.diff(a))\n",
    "p_diff_a"
   ]
  },
  {
   "cell_type": "code",
   "execution_count": 1496,
   "id": "646fd7c2-8199-4d0d-9fa2-1919c1f4971f",
   "metadata": {},
   "outputs": [
    {
     "name": "stderr",
     "output_type": "stream",
     "text": [
      "<string>:1: RuntimeWarning: invalid value encountered in scalar power\n"
     ]
    },
    {
     "data": {
      "image/png": "[encoded data removed]",
      "text/plain": [
       "<Figure size 640x480 with 1 Axes>"
      ]
     },
     "metadata": {},
     "output_type": "display_data"
    },
    {
     "data": {
      "text/plain": [
       "<sympy.plotting.plot.Plot at 0x17d1f70b0>"
      ]
     },
     "execution_count": 1496,
     "metadata": {},
     "output_type": "execute_result"
    }
   ],
   "source": [
    "#Plotting p_diff_a to see if the values are positive or not\n",
    "param_valuesA = {q: 5, U: 1, b: 0.4, r: 2.5}\n",
    "plot(p_diff_a.subs(param_valuesA), xlim = [0, 1], ylim = [-5, 5])"
   ]
  },
  {
   "cell_type": "code",
   "execution_count": 1445,
   "id": "ed12def6-0284-49a2-b128-c5dca2357979",
   "metadata": {},
   "outputs": [
    {
     "data": {
      "image/png": "[encoded data removed]",
      "text/latex": [
       "$\\displaystyle \\frac{a^{\\frac{- 3 a + b}{2 a - b} + 1} \\left(\\overline{U}^{\\frac{1}{a}} \\overline{q}^{\\frac{- 2 a + b}{a}} r^{\\frac{b}{a}} \\left(a - b\\right)\\right)^{\\frac{a}{2 a - b}} \\left(a \\left(a - b\\right) \\log{\\left(\\frac{\\overline{U}^{\\frac{1}{a}} \\overline{q}^{\\frac{- 2 a + b}{a}} r^{\\frac{b}{a}} \\left(a - b\\right)}{a} \\right)} + \\left(- a + \\log{\\left(\\left(\\overline{q} r\\right)^{a - b} \\right)}\\right) \\left(2 a - b\\right)\\right)}{\\left(a - b\\right) \\left(2 a - b\\right)^{2}}$"
      ],
      "text/plain": [
       "                                                                   a          \n",
       "                                                                ───────       \n",
       "                                                                2⋅a - b ⎛     \n",
       " -3⋅a + b     ⎛                             -2⋅a + b  b        ⎞        ⎜     \n",
       " ──────── + 1 ⎜                             ────────  ─        ⎟        ⎜     \n",
       " 2⋅a - b      ⎜a ______________                a      a        ⎟        ⎜     \n",
       "a            ⋅⎝╲╱ \\overline{U} ⋅\\overline{q}        ⋅r ⋅(a - b)⎠       ⋅⎜a⋅(a \n",
       "                                                                        ⎝     \n",
       "──────────────────────────────────────────────────────────────────────────────\n",
       "                                                                              \n",
       "                                                                              \n",
       "\n",
       "                                                                              \n",
       "                                                                              \n",
       "        ⎛                             -2⋅a + b  b        ⎞                    \n",
       "        ⎜                             ────────  ─        ⎟                    \n",
       "        ⎜a ______________                a      a        ⎟                    \n",
       "        ⎜╲╱ \\overline{U} ⋅\\overline{q}        ⋅r ⋅(a - b)⎟   ⎛        ⎛       \n",
       "- b)⋅log⎜────────────────────────────────────────────────⎟ + ⎝-a + log⎝(\\overl\n",
       "        ⎝                       a                        ⎠                    \n",
       "──────────────────────────────────────────────────────────────────────────────\n",
       "                      2                                                       \n",
       "     (a - b)⋅(2⋅a - b)                                                        \n",
       "\n",
       "                           \n",
       "                           \n",
       "                          ⎞\n",
       "                          ⎟\n",
       "                          ⎟\n",
       "         a - b⎞⎞          ⎟\n",
       "ine{q}⋅r)     ⎠⎠⋅(2⋅a - b)⎟\n",
       "                          ⎠\n",
       "───────────────────────────\n",
       "                           \n",
       "                           "
      ]
     },
     "execution_count": 1445,
     "metadata": {},
     "output_type": "execute_result"
    }
   ],
   "source": [
    "#Calculating solution for pd* diff b\n",
    "p_diff_b = simplify(pstar.diff(b))\n",
    "p_diff_b"
   ]
  },
  {
   "cell_type": "code",
   "execution_count": 1514,
   "id": "3f79d0ca-18cb-486d-abff-4b6635962dbd",
   "metadata": {},
   "outputs": [
    {
     "name": "stderr",
     "output_type": "stream",
     "text": [
      "<string>:1: RuntimeWarning: invalid value encountered in scalar power\n"
     ]
    },
    {
     "data": {
      "image/png": "[encoded data removed]",
      "text/plain": [
       "<Figure size 640x480 with 1 Axes>"
      ]
     },
     "metadata": {},
     "output_type": "display_data"
    },
    {
     "data": {
      "text/plain": [
       "<sympy.plotting.plot.Plot at 0x280bf3020>"
      ]
     },
     "execution_count": 1514,
     "metadata": {},
     "output_type": "execute_result"
    }
   ],
   "source": [
    "#Plotting p_diff_b to see if the values are positive or not\n",
    "param_valuesB = {q: 5, U: 1, a: 0.6, r: 2.5}\n",
    "plot(p_diff_b.subs(param_valuesB), xlim = [0, 1])"
   ]
  },
  {
   "cell_type": "code",
   "execution_count": 1264,
   "id": "13c1b202-6d7d-4ada-900e-31b1df0a90ab",
   "metadata": {},
   "outputs": [
    {
     "data": {
      "image/png": "[encoded data removed]",
      "text/latex": [
       "$\\displaystyle - \\frac{a^{- \\frac{a}{2 a - b}} \\left(\\overline{U}^{\\frac{1}{a}} \\overline{q}^{- \\frac{2 a - b}{a}} r^{\\frac{b}{a}} \\left(a - b\\right)\\right)^{\\frac{a}{2 a - b}}}{\\overline{q}}$"
      ],
      "text/plain": [
       "                                                                  a    \n",
       "                                                               ─────── \n",
       "                                                               2⋅a - b \n",
       "    -a    ⎛                             -(2⋅a - b)   b        ⎞        \n",
       "  ─────── ⎜                             ───────────  ─        ⎟        \n",
       "  2⋅a - b ⎜a ______________                  a       a        ⎟        \n",
       "-a       ⋅⎝╲╱ \\overline{U} ⋅\\overline{q}           ⋅r ⋅(a - b)⎠        \n",
       "───────────────────────────────────────────────────────────────────────\n",
       "                              \\overline{q}                             "
      ]
     },
     "execution_count": 1264,
     "metadata": {},
     "output_type": "execute_result"
    }
   ],
   "source": [
    "#Calculating solution for pd* diff q\n",
    "p_diff_q = simplify(pstar.diff(q))\n",
    "p_diff_q"
   ]
  },
  {
   "cell_type": "code",
   "execution_count": 1654,
   "id": "5c3c72ca-fdfd-455d-8637-cfff4c5b58e2",
   "metadata": {},
   "outputs": [
    {
     "data": {
      "image/png": "[encoded data removed]",
      "text/plain": [
       "<Figure size 640x480 with 1 Axes>"
      ]
     },
     "metadata": {},
     "output_type": "display_data"
    },
    {
     "data": {
      "text/plain": [
       "<sympy.plotting.plot.Plot at 0x280e63410>"
      ]
     },
     "execution_count": 1654,
     "metadata": {},
     "output_type": "execute_result"
    }
   ],
   "source": [
    "#Plotting p_diff_q to see if the values are positive or not\n",
    "param_valuesB = {b: 0.2, U: 5, a: 0.8, r: 2.5}\n",
    "plot(p_diff_q.subs(param_valuesB), xlim = [0, 10], ylim = [-5, 5])"
   ]
  },
  {
   "cell_type": "code",
   "execution_count": 1646,
   "id": "cf063c71-2727-4121-a669-807f3dcf2448",
   "metadata": {},
   "outputs": [
    {
     "data": {
      "image/png": "[encoded data removed]",
      "text/latex": [
       "$\\displaystyle \\frac{a^{- \\frac{a}{2 a - b}} \\left(\\overline{U}^{\\frac{1}{a}} r^{\\frac{b}{a}} \\left(a - b\\right)\\right)^{\\frac{a}{2 a - b}}}{\\overline{U} \\overline{q} \\left(2 a - b\\right)}$"
      ],
      "text/plain": [
       "                                         a   \n",
       "                                      ───────\n",
       "                                      2⋅a - b\n",
       "   -a    ⎛                  b        ⎞       \n",
       " ─────── ⎜                  ─        ⎟       \n",
       " 2⋅a - b ⎜a ______________  a        ⎟       \n",
       "a       ⋅⎝╲╱ \\overline{U} ⋅r ⋅(a - b)⎠       \n",
       "─────────────────────────────────────────────\n",
       "     \\overline{U}⋅\\overline{q}⋅(2⋅a - b)     "
      ]
     },
     "execution_count": 1646,
     "metadata": {},
     "output_type": "execute_result"
    }
   ],
   "source": [
    "#Calculating solution for pd* diff U\n",
    "p_diff_U = simplify(pstar.diff(U))\n",
    "p_diff_U"
   ]
  },
  {
   "cell_type": "code",
   "execution_count": 1650,
   "id": "41575d9b-56cc-47fc-bb6f-00125616d87b",
   "metadata": {},
   "outputs": [
    {
     "name": "stderr",
     "output_type": "stream",
     "text": [
      "<string>:1: RuntimeWarning: invalid value encountered in scalar power\n"
     ]
    },
    {
     "data": {
      "image/png": "[encoded data removed]",
      "text/plain": [
       "<Figure size 640x480 with 1 Axes>"
      ]
     },
     "metadata": {},
     "output_type": "display_data"
    },
    {
     "data": {
      "text/plain": [
       "<sympy.plotting.plot.Plot at 0x17d50a3c0>"
      ]
     },
     "execution_count": 1650,
     "metadata": {},
     "output_type": "execute_result"
    }
   ],
   "source": [
    "#Plotting p_diff_U to see if the values are positive or not\n",
    "param_valuesU = {q: 5, b: 0.4, a: 0.6, r: 2.5}\n",
    "plot(p_diff_U.subs(param_valuesU), xlim = [0, 10], ylim = [-5, 5])"
   ]
  },
  {
   "cell_type": "code",
   "execution_count": 1616,
   "id": "c8c60e86-181e-47eb-9c35-2130d8c19b2c",
   "metadata": {},
   "outputs": [
    {
     "data": {
      "image/png": "[encoded data removed]",
      "text/latex": [
       "$\\displaystyle \\frac{a^{- \\frac{a}{2 a - b}} b \\left(\\overline{U}^{\\frac{1}{a}} r^{\\frac{b}{a}} \\left(a - b\\right)\\right)^{\\frac{a}{2 a - b}}}{\\overline{q} r \\left(2 a - b\\right)}$"
      ],
      "text/plain": [
       "                                           a   \n",
       "                                        ───────\n",
       "                                        2⋅a - b\n",
       "   -a      ⎛                  b        ⎞       \n",
       " ───────   ⎜                  ─        ⎟       \n",
       " 2⋅a - b   ⎜a ______________  a        ⎟       \n",
       "a       ⋅b⋅⎝╲╱ \\overline{U} ⋅r ⋅(a - b)⎠       \n",
       "───────────────────────────────────────────────\n",
       "            \\overline{q}⋅r⋅(2⋅a - b)           "
      ]
     },
     "execution_count": 1616,
     "metadata": {},
     "output_type": "execute_result"
    }
   ],
   "source": [
    "#Calculating solution for pd* diff r\n",
    "p_diff_r = simplify(pstar.diff(r))\n",
    "p_diff_r"
   ]
  },
  {
   "cell_type": "code",
   "execution_count": 1686,
   "id": "e3d197bb-5611-4bc5-93e8-61448bbe578a",
   "metadata": {},
   "outputs": [
    {
     "name": "stderr",
     "output_type": "stream",
     "text": [
      "<string>:1: RuntimeWarning: invalid value encountered in scalar power\n"
     ]
    },
    {
     "data": {
      "image/png": "[encoded data removed]",
      "text/plain": [
       "<Figure size 640x480 with 1 Axes>"
      ]
     },
     "metadata": {},
     "output_type": "display_data"
    },
    {
     "data": {
      "text/plain": [
       "<sympy.plotting.plot.Plot at 0x17d1c9c40>"
      ]
     },
     "execution_count": 1686,
     "metadata": {},
     "output_type": "execute_result"
    }
   ],
   "source": [
    "#Plotting p_diff_r to see if values are > 0 \n",
    "param_valuesR = {q: 10, U: 5, a: 0.6, b: 0.4}\n",
    "plot(p_diff_r.subs(param_valuesR), xlim = [0, 10], ylim = [-5, 5])"
   ]
  },
  {
   "cell_type": "markdown",
   "id": "3222be3b-29e8-4d9c-a348-b621c38653b4",
   "metadata": {},
   "source": [
    "### Comparative statics for R&D investment"
   ]
  },
  {
   "cell_type": "code",
   "execution_count": 1621,
   "id": "866d53f5-ccfd-4d97-83d5-61b80ad42c51",
   "metadata": {},
   "outputs": [
    {
     "data": {
      "image/png": "[encoded data removed]",
      "text/latex": [
       "$\\displaystyle \\frac{\\overline{U}^{- \\frac{2}{a}} \\left(\\overline{U}^{3} \\overline{q}^{b} r^{b} \\left(a^{- \\frac{a}{2 a - b}} \\left(\\overline{U}^{\\frac{1}{a}} \\overline{q}^{\\frac{- 2 a + b}{a}} r^{\\frac{b}{a}} \\left(a - b\\right)\\right)^{\\frac{a}{2 a - b}}\\right)^{b}\\right)^{\\frac{1}{a}} \\left(\\overline{U}^{\\frac{1}{a}} \\overline{q}^{\\frac{- 2 a + b}{a}} r^{\\frac{b}{a}} \\left(a - b\\right)\\right)^{- \\frac{2 a}{2 a - b}} \\left(a^{4} \\left(a^{2} b \\left(a^{3} \\left(\\overline{U}^{\\frac{1}{a}} \\overline{q}^{\\frac{- 2 a + b}{a}} a r^{\\frac{b}{a}} \\left(a - b\\right)\\right)^{\\frac{a}{2 a - b}} \\left(- a b \\left(a - b\\right) \\log{\\left(\\overline{U}^{\\frac{1}{a}} \\overline{q}^{\\frac{- 2 a + b}{a}} r^{\\frac{b}{a}} \\left(a - b\\right) \\right)} + \\left(2 a - b\\right) \\left(a^{2} - \\log{\\left(\\overline{q}^{b \\left(a - b\\right)} \\left(\\overline{U} r^{b}\\right)^{a - b} \\right)}\\right)\\right) + a^{\\frac{9 a - 4 b}{2 a - b}} \\left(\\overline{U}^{\\frac{1}{a}} \\overline{q}^{\\frac{- 2 a + b}{a}} r^{\\frac{b}{a}} \\left(a - b\\right)\\right)^{\\frac{a}{2 a - b}} \\left(a - b\\right) \\left(- 2 a + b + \\log{\\left(a^{b} \\right)}\\right)\\right) - a^{\\frac{11 a - 5 b}{2 a - b}} \\left(\\overline{U}^{\\frac{1}{a}} \\overline{q}^{\\frac{- 2 a + b}{a}} r^{\\frac{b}{a}} \\left(a - b\\right)\\right)^{\\frac{a}{2 a - b}} \\left(a - b\\right) \\left(2 a - b\\right)^{2} \\log{\\left(\\overline{U} \\left(\\overline{q} a^{- \\frac{a}{2 a - b}} r \\left(\\overline{U}^{\\frac{1}{a}} \\overline{q}^{\\frac{- 2 a + b}{a}} r^{\\frac{b}{a}} \\left(a - b\\right)\\right)^{\\frac{a}{2 a - b}}\\right)^{b} \\right)}\\right) + a^{\\frac{23 a - 11 b}{2 a - b}} \\left(\\overline{U}^{\\frac{1}{a}} \\overline{q}^{\\frac{- 2 a + b}{a}} r^{\\frac{b}{a}} \\left(a - b\\right)\\right)^{\\frac{a}{2 a - b}} \\left(a - b\\right) \\left(2 a - b - \\log{\\left(a^{b} \\right)}\\right) + a^{3 + \\frac{15 a - 7 b}{2 a - b}} \\left(\\overline{U}^{\\frac{1}{a}} \\overline{q}^{\\frac{- 2 a + b}{a}} r^{\\frac{b}{a}} \\left(a - b\\right)\\right)^{\\frac{a}{2 a - b}} \\left(a b \\left(a - b\\right) \\log{\\left(\\overline{U}^{\\frac{1}{a}} \\overline{q}^{\\frac{- 2 a + b}{a}} r^{\\frac{b}{a}} \\left(a - b\\right) \\right)} + \\left(2 a - b\\right) \\left(- a^{2} + \\log{\\left(\\overline{q}^{b \\left(a - b\\right)} \\left(\\overline{U} r^{b}\\right)^{a - b} \\right)}\\right)\\right)\\right)}{\\overline{q} a^{11} \\left(a - b\\right) \\left(2 a - b\\right)^{2}}$"
      ],
      "text/plain": [
       "                         _____________________________________________________\n",
       "                        ╱                                                     \n",
       "                       ╱                                 ⎛                    \n",
       "                      ╱                                  ⎜                    \n",
       "                     ╱                                   ⎜                    \n",
       "            -2      ╱                                    ⎜   -a    ⎛          \n",
       "            ───    ╱                                     ⎜ ─────── ⎜          \n",
       "             a  a ╱                   3             b  b ⎜ 2⋅a - b ⎜a ________\n",
       "\\overline{U}   ⋅╲╱        \\overline{U} ⋅\\overline{q} ⋅r ⋅⎝a       ⋅⎝╲╱ \\overli\n",
       "──────────────────────────────────────────────────────────────────────────────\n",
       "                                                                              \n",
       "                                                                              \n",
       "\n",
       "_________________________________________________                             \n",
       "                                               b                              \n",
       "                                          a   ⎞                               \n",
       "                                       ───────⎟                               \n",
       "                                       2⋅a - b⎟                               \n",
       "                   -2⋅a + b  b        ⎞       ⎟   ⎛                           \n",
       "                   ────────  ─        ⎟       ⎟   ⎜                           \n",
       "______                a      a        ⎟       ⎟   ⎜a ______________           \n",
       "ne{U} ⋅\\overline{q}        ⋅r ⋅(a - b)⎠       ⎠  ⋅⎝╲╱ \\overline{U} ⋅\\overline{\n",
       "──────────────────────────────────────────────────────────────────────────────\n",
       "                                                                              \n",
       "                                                                              \n",
       "\n",
       "                                                                              \n",
       "                              ⎛   ⎛                                           \n",
       "                       -2⋅a   ⎜   ⎜     ⎛                                     \n",
       "                      ─────── ⎜   ⎜     ⎜                                     \n",
       "                      2⋅a - b ⎜   ⎜     ⎜                                     \n",
       "  -2⋅a + b  b        ⎞        ⎜   ⎜     ⎜   ⎛                             -2⋅a\n",
       "  ────────  ─        ⎟        ⎜   ⎜     ⎜   ⎜                             ────\n",
       "     a      a        ⎟        ⎜ 4 ⎜ 2   ⎜ 3 ⎜a ______________                a\n",
       "q}        ⋅r ⋅(a - b)⎠       ⋅⎝a ⋅⎝a ⋅b⋅⎝a ⋅⎝╲╱ \\overline{U} ⋅\\overline{q}    \n",
       "──────────────────────────────────────────────────────────────────────────────\n",
       "                                                                              \n",
       "                                                                              \n",
       "\n",
       "                                                                              \n",
       "                                                                              \n",
       "                     a                                                        \n",
       "                  ───────                                                     \n",
       "                  2⋅a - b                                                     \n",
       " + b    b        ⎞        ⎛                 ⎛                             -2⋅a\n",
       "────    ─        ⎟        ⎜                 ⎜                             ────\n",
       "        a        ⎟        ⎜                 ⎜a ______________                a\n",
       "    ⋅a⋅r ⋅(a - b)⎠       ⋅⎝- a⋅b⋅(a - b)⋅log⎝╲╱ \\overline{U} ⋅\\overline{q}    \n",
       "──────────────────────────────────────────────────────────────────────────────\n",
       "                                                                              \n",
       "                                                                              \n",
       "\n",
       "                                                                              \n",
       "                                                                              \n",
       "                                                                              \n",
       "                                                                              \n",
       "                                                                              \n",
       " + b  b        ⎞                                                              \n",
       "────  ─        ⎟             ⎛        ⎛                                       \n",
       "      a        ⎟             ⎜ 2      ⎜            b⋅(a - b) ⎛              b⎞\n",
       "    ⋅r ⋅(a - b)⎠ + (2⋅a - b)⋅⎝a  - log⎝\\overline{q}         ⋅⎝\\overline{U}⋅r ⎠\n",
       "──────────────────────────────────────────────────────────────────────────────\n",
       "                                                                              \n",
       "                                                                              \n",
       "\n",
       "                                                                              \n",
       "                                                                              \n",
       "                                                                           a  \n",
       "                                                                        ──────\n",
       "                                                                        2⋅a - \n",
       "       ⎞    9⋅a - 4⋅b ⎛                             -2⋅a + b  b        ⎞      \n",
       "a - b⎞⎞⎟    ───────── ⎜                             ────────  ─        ⎟      \n",
       "     ⎟⎟⎟     2⋅a - b  ⎜a ______________                a      a        ⎟      \n",
       "     ⎠⎠⎠ + a         ⋅⎝╲╱ \\overline{U} ⋅\\overline{q}        ⋅r ⋅(a - b)⎠      \n",
       "──────────────────────────────────────────────────────────────────────────────\n",
       "                                                                              \n",
       "                                                                              \n",
       "\n",
       "                                                                              \n",
       "                                                                              \n",
       "                              ⎞                                               \n",
       "─                             ⎟                                               \n",
       "b                             ⎟                                               \n",
       "                              ⎟    11⋅a - 5⋅b ⎛                             -2\n",
       "                              ⎟    ────────── ⎜                             ──\n",
       "          ⎛              ⎛ b⎞⎞⎟     2⋅a - b   ⎜a ______________               \n",
       " ⋅(a - b)⋅⎝-2⋅a + b + log⎝a ⎠⎠⎠ - a          ⋅⎝╲╱ \\overline{U} ⋅\\overline{q}  \n",
       "──────────────────────────────────────────────────────────────────────────────\n",
       "                                  11                  2                       \n",
       "                    \\overline{q}⋅a  ⋅(a - b)⋅(2⋅a - b)                        \n",
       "\n",
       "                                                                              \n",
       "                                                ⎛                             \n",
       "                     a                          ⎜             ⎛               \n",
       "                  ───────                       ⎜             ⎜               \n",
       "                  2⋅a - b                       ⎜             ⎜               \n",
       "⋅a + b  b        ⎞                              ⎜             ⎜               \n",
       "──────  ─        ⎟                              ⎜             ⎜              ─\n",
       " a      a        ⎟                         2    ⎜             ⎜              2\n",
       "      ⋅r ⋅(a - b)⎠       ⋅(a - b)⋅(2⋅a - b) ⋅log⎝\\overline{U}⋅⎝\\overline{q}⋅a \n",
       "──────────────────────────────────────────────────────────────────────────────\n",
       "                                                                              \n",
       "                                                                              \n",
       "\n",
       "                                                                              \n",
       "                                                                   b⎞⎞        \n",
       "                                                              a   ⎞ ⎟⎟        \n",
       "                                                           ───────⎟ ⎟⎟        \n",
       "                                                           2⋅a - b⎟ ⎟⎟        \n",
       " -a      ⎛                             -2⋅a + b  b        ⎞       ⎟ ⎟⎟    23⋅a\n",
       "──────   ⎜                             ────────  ─        ⎟       ⎟ ⎟⎟    ────\n",
       "⋅a - b   ⎜a ______________                a      a        ⎟       ⎟ ⎟⎟      2⋅\n",
       "      ⋅r⋅⎝╲╱ \\overline{U} ⋅\\overline{q}        ⋅r ⋅(a - b)⎠       ⎠ ⎠⎠ + a    \n",
       "──────────────────────────────────────────────────────────────────────────────\n",
       "                                                                              \n",
       "                                                                              \n",
       "\n",
       "                                                                              \n",
       "                                                                              \n",
       "                                                             a                \n",
       "                                                          ───────             \n",
       "                                                          2⋅a - b             \n",
       " - 11⋅b ⎛                             -2⋅a + b  b        ⎞                    \n",
       "─────── ⎜                             ────────  ─        ⎟                    \n",
       "a - b   ⎜a ______________                a      a        ⎟                ⎛   \n",
       "       ⋅⎝╲╱ \\overline{U} ⋅\\overline{q}        ⋅r ⋅(a - b)⎠       ⋅(a - b)⋅⎝2⋅a\n",
       "──────────────────────────────────────────────────────────────────────────────\n",
       "                                                                              \n",
       "                                                                              \n",
       "\n",
       "                                                                              \n",
       "                                                                              \n",
       "                                                                              \n",
       "                                                                              \n",
       "                                                                              \n",
       "                       15⋅a - 7⋅b ⎛                             -2⋅a + b  b   \n",
       "                   3 + ────────── ⎜                             ────────  ─   \n",
       "          ⎛ b⎞⎞         2⋅a - b   ⎜a ______________                a      a   \n",
       " - b - log⎝a ⎠⎠ + a              ⋅⎝╲╱ \\overline{U} ⋅\\overline{q}        ⋅r ⋅(a\n",
       "──────────────────────────────────────────────────────────────────────────────\n",
       "                                                                              \n",
       "                                                                              \n",
       "\n",
       "                                                                              \n",
       "                                                                              \n",
       "         a                                                                    \n",
       "      ───────                                                                 \n",
       "      2⋅a - b                                                                 \n",
       "     ⎞        ⎛               ⎛                             -2⋅a + b  b       \n",
       "     ⎟        ⎜               ⎜                             ────────  ─       \n",
       "     ⎟        ⎜               ⎜a ______________                a      a       \n",
       " - b)⎠       ⋅⎝a⋅b⋅(a - b)⋅log⎝╲╱ \\overline{U} ⋅\\overline{q}        ⋅r ⋅(a - b\n",
       "──────────────────────────────────────────────────────────────────────────────\n",
       "                                                                              \n",
       "                                                                              \n",
       "\n",
       "                                                                           \n",
       "                                                                          ⎞\n",
       "                                                                          ⎟\n",
       "                                                                          ⎟\n",
       "                                                                          ⎟\n",
       " ⎞                                                                       ⎞⎟\n",
       " ⎟             ⎛          ⎛                                       a - b⎞⎞⎟⎟\n",
       " ⎟             ⎜   2      ⎜            b⋅(a - b) ⎛              b⎞     ⎟⎟⎟⎟\n",
       ")⎠ + (2⋅a - b)⋅⎝- a  + log⎝\\overline{q}         ⋅⎝\\overline{U}⋅r ⎠     ⎠⎠⎠⎠\n",
       "───────────────────────────────────────────────────────────────────────────\n",
       "                                                                           \n",
       "                                                                           "
      ]
     },
     "execution_count": 1621,
     "metadata": {},
     "output_type": "execute_result"
    }
   ],
   "source": [
    "#Calculating solution for F* diff a \n",
    "F_diff_a = simplify(Fstar.diff(a))\n",
    "F_diff_a"
   ]
  },
  {
   "cell_type": "code",
   "execution_count": 1570,
   "id": "538b3613-1683-4079-8c9a-f02a347ed459",
   "metadata": {},
   "outputs": [
    {
     "data": {
      "image/png": "[encoded data removed]",
      "text/latex": [
       "$\\displaystyle -1$"
      ],
      "text/plain": [
       "-1"
      ]
     },
     "execution_count": 1570,
     "metadata": {},
     "output_type": "execute_result"
    }
   ],
   "source": [
    "#Sympy is unable to plot this solution so we will substitute in reasonable parameters and take the sign of that\n",
    "param_values_FA = {a: 0.6, q: 10, U: 5, b: 0.4, r: 2.5}\n",
    "sign(F_diff_a.subs(param_values_FA))"
   ]
  },
  {
   "cell_type": "code",
   "execution_count": 1620,
   "id": "3c4fe328-b1d0-4fc2-ab5b-ef233bd8ecc2",
   "metadata": {},
   "outputs": [
    {
     "data": {
      "image/png": "[encoded data removed]",
      "text/latex": [
       "$\\displaystyle \\frac{\\overline{U}^{- \\frac{a + 2}{a}} \\overline{q}^{- b - 3} r^{- \\frac{b \\left(a + 2\\right)}{a}} \\left(a^{- \\frac{a}{2 a - b}} \\left(\\overline{U}^{\\frac{1}{a}} \\overline{q}^{\\frac{- 2 a + b}{a}} r^{\\frac{b}{a}} \\left(a - b\\right)\\right)^{\\frac{a}{2 a - b}}\\right)^{- b} \\left(\\overline{U}^{\\frac{1}{a}} \\overline{q}^{\\frac{- 2 a + b}{a}} r^{\\frac{b}{a}} \\left(a - b\\right)\\right)^{- \\frac{2 a}{2 a - b}} \\left(- \\overline{U}^{\\frac{a + 2}{a}} \\overline{q}^{b + 2} a^{\\frac{3 a - b}{2 a - b}} r^{\\frac{b \\left(a + 2\\right)}{a}} \\left(a^{- \\frac{a}{2 a - b}} \\left(\\overline{U}^{\\frac{1}{a}} \\overline{q}^{\\frac{- 2 a + b}{a}} r^{\\frac{b}{a}} \\left(a - b\\right)\\right)^{\\frac{a}{2 a - b}}\\right)^{b} \\left(\\overline{U} \\overline{q}^{b} r^{b} \\left(a^{- \\frac{a}{2 a - b}} \\left(\\overline{U}^{\\frac{1}{a}} \\overline{q}^{\\frac{- 2 a + b}{a}} r^{\\frac{b}{a}} \\left(a - b\\right)\\right)^{\\frac{a}{2 a - b}}\\right)^{b}\\right)^{\\frac{1}{a}} \\left(\\overline{U}^{\\frac{1}{a}} \\overline{q}^{\\frac{- 2 a + b}{a}} r^{\\frac{b}{a}} \\left(a - b\\right)\\right)^{\\frac{a}{2 a - b}} \\left(a \\left(a - b\\right) \\log{\\left(\\overline{U}^{\\frac{1}{a}} \\overline{q}^{\\frac{- 2 a + b}{a}} r^{\\frac{b}{a}} \\left(a - b\\right) \\right)} + \\left(- a + \\log{\\left(\\overline{q}^{a - b} r^{a - b} \\right)}\\right) \\left(2 a - b\\right)\\right) + \\overline{U}^{1 + \\frac{1}{a}} \\overline{q}^{2} r^{\\frac{2 b}{a}} \\left(\\overline{U}^{2} \\overline{q}^{b} r^{b} \\left(a^{- \\frac{a}{2 a - b}} \\left(\\overline{U}^{\\frac{1}{a}} \\overline{q}^{\\frac{- 2 a + b}{a}} r^{\\frac{b}{a}} \\left(a - b\\right)\\right)^{\\frac{a}{2 a - b}}\\right)^{b}\\right)^{\\frac{1}{a}} \\left(\\overline{q} a^{- \\frac{a}{2 a - b}} r \\left(\\overline{U}^{\\frac{1}{a}} \\overline{q}^{\\frac{- 2 a + b}{a}} r^{\\frac{b}{a}} \\left(a - b\\right)\\right)^{\\frac{a}{2 a - b}}\\right)^{b} \\left(- b \\left(a^{\\frac{3 a - b}{2 a - b}} \\left(\\overline{U}^{\\frac{1}{a}} \\overline{q}^{\\frac{- 2 a + b}{a}} r^{\\frac{b}{a}} \\left(a - b\\right)\\right)^{\\frac{a}{2 a - b}} \\log{\\left(a^{a - b} \\right)} + \\left(\\overline{U}^{\\frac{1}{a}} \\overline{q}^{\\frac{- 2 a + b}{a}} a r^{\\frac{b}{a}} \\left(a - b\\right)\\right)^{\\frac{a}{2 a - b}} \\left(- a \\left(a - b\\right) \\log{\\left(\\overline{U}^{\\frac{1}{a}} \\overline{q}^{\\frac{- 2 a + b}{a}} r^{\\frac{b}{a}} \\left(a - b\\right) \\right)} + \\left(a - \\log{\\left(\\overline{q}^{a - b} r^{a - b} \\right)}\\right) \\left(2 a - b\\right)\\right)\\right) + \\left(\\overline{U}^{\\frac{1}{a}} \\overline{q}^{\\frac{- 2 a + b}{a}} a r^{\\frac{b}{a}} \\left(a - b\\right)\\right)^{\\frac{a}{2 a - b}} \\left(a - b\\right) \\left(2 a - b\\right)^{2} \\log{\\left(a^{- \\frac{a}{2 a - b}} \\left(\\overline{U}^{\\frac{1}{a}} \\overline{q}^{\\frac{- 2 a + b}{a}} r^{\\frac{b}{a}} \\left(a - b\\right)\\right)^{\\frac{a}{2 a - b}} \\right)} + \\left(\\overline{U}^{\\frac{1}{a}} \\overline{q}^{\\frac{- 2 a + b}{a}} a r^{\\frac{b}{a}} \\left(a - b\\right)\\right)^{\\frac{a}{2 a - b}} \\log{\\left(\\left(\\overline{q} r\\right)^{\\left(a - b\\right) \\left(2 a - b\\right)^{2}} \\right)}\\right) + a^{\\frac{5 a - 2 b}{2 a - b}} \\left(a^{- \\frac{a}{2 a - b}} \\left(\\overline{U}^{\\frac{1}{a}} \\overline{q}^{\\frac{- 2 a + b}{a}} r^{\\frac{b}{a}} \\left(a - b\\right)\\right)^{\\frac{a}{2 a - b}}\\right)^{b} \\left(\\overline{U} \\overline{q}^{b} r^{b} \\left(a^{- \\frac{a}{2 a - b}} \\left(\\overline{U}^{\\frac{1}{a}} \\overline{q}^{\\frac{- 2 a + b}{a}} r^{\\frac{b}{a}} \\left(a - b\\right)\\right)^{\\frac{a}{2 a - b}}\\right)^{b}\\right)^{\\frac{1}{a}} \\left(\\overline{U}^{\\frac{1}{a}} \\overline{q}^{\\frac{- 2 a + b}{a}} r^{\\frac{b}{a}} \\left(a - b\\right)\\right)^{\\frac{a}{2 a - b}} \\log{\\left(a^{\\overline{U}^{\\frac{a + 2}{a}} \\overline{q}^{b + 2} r^{\\frac{b \\left(a + 2\\right)}{a}} \\left(a - b\\right)} \\right)}\\right)}{a \\left(a - b\\right) \\left(2 a - b\\right)^{2}}$"
      ],
      "text/plain": [
       "                                                                              \n",
       "                                                                              \n",
       "                                                      ⎛                       \n",
       "                                                      ⎜                       \n",
       "                                                      ⎜                       \n",
       "            -(a + 2)                      -b⋅(a + 2)  ⎜   -a    ⎛             \n",
       "            ─────────                     ─────────── ⎜ ─────── ⎜             \n",
       "                a                 -b - 3       a      ⎜ 2⋅a - b ⎜a ___________\n",
       "\\overline{U}         ⋅\\overline{q}      ⋅r           ⋅⎝a       ⋅⎝╲╱ \\overline{\n",
       "──────────────────────────────────────────────────────────────────────────────\n",
       "                                                                              \n",
       "                                                                              \n",
       "\n",
       "                                                                              \n",
       "                                            -b                                \n",
       "                                       a   ⎞                                  \n",
       "                                    ───────⎟                                  \n",
       "                                    2⋅a - b⎟                                  \n",
       "                -2⋅a + b  b        ⎞       ⎟   ⎛                             -\n",
       "                ────────  ─        ⎟       ⎟   ⎜                             ─\n",
       "___                a      a        ⎟       ⎟   ⎜a ______________              \n",
       "U} ⋅\\overline{q}        ⋅r ⋅(a - b)⎠       ⎠  ⋅⎝╲╱ \\overline{U} ⋅\\overline{q} \n",
       "──────────────────────────────────────────────────────────────────────────────\n",
       "                                                                              \n",
       "                                                                              \n",
       "\n",
       "                           ⎛                                                  \n",
       "                           ⎜                                                  \n",
       "                    -2⋅a   ⎜                                                  \n",
       "                   ─────── ⎜                                                  \n",
       "                   2⋅a - b ⎜                                                  \n",
       "2⋅a + b  b        ⎞        ⎜              a + 2                    3⋅a - b  b⋅\n",
       "───────  ─        ⎟        ⎜              ─────                    ───────  ──\n",
       "  a      a        ⎟        ⎜                a               b + 2  2⋅a - b    \n",
       "       ⋅r ⋅(a - b)⎠       ⋅⎝- \\overline{U}     ⋅\\overline{q}     ⋅a       ⋅r  \n",
       "──────────────────────────────────────────────────────────────────────────────\n",
       "                                                                              \n",
       "                                                                              \n",
       "\n",
       "                                                                              \n",
       "                                                                            b \n",
       "        ⎛                                                              a   ⎞  \n",
       "        ⎜                                                           ───────⎟  \n",
       "        ⎜                                                           2⋅a - b⎟  \n",
       "(a + 2) ⎜   -a    ⎛                             -2⋅a + b  b        ⎞       ⎟  \n",
       "─────── ⎜ ─────── ⎜                             ────────  ─        ⎟       ⎟  \n",
       "  a     ⎜ 2⋅a - b ⎜a ______________                a      a        ⎟       ⎟  \n",
       "       ⋅⎝a       ⋅⎝╲╱ \\overline{U} ⋅\\overline{q}        ⋅r ⋅(a - b)⎠       ⎠ ⋅\n",
       "──────────────────────────────────────────────────────────────────────────────\n",
       "                                                                              \n",
       "                                                                              \n",
       "\n",
       "         _____________________________________________________________________\n",
       "        ╱                                                                     \n",
       "       ╱                                ⎛                                     \n",
       "      ╱                                 ⎜                                     \n",
       "     ╱                                  ⎜                                     \n",
       "    ╱                                   ⎜   -a    ⎛                           \n",
       "   ╱                                    ⎜ ─────── ⎜                           \n",
       "a ╱                                b  b ⎜ 2⋅a - b ⎜a ______________           \n",
       "╲╱        \\overline{U}⋅\\overline{q} ⋅r ⋅⎝a       ⋅⎝╲╱ \\overline{U} ⋅\\overline{\n",
       "──────────────────────────────────────────────────────────────────────────────\n",
       "                                                                              \n",
       "                                                                              \n",
       "\n",
       "________________________________                                              \n",
       "                              b                                               \n",
       "                         a   ⎞                                                \n",
       "                      ───────⎟                                                \n",
       "                      2⋅a - b⎟                                                \n",
       "  -2⋅a + b  b        ⎞       ⎟   ⎛                             -2⋅a + b  b    \n",
       "  ────────  ─        ⎟       ⎟   ⎜                             ────────  ─    \n",
       "     a      a        ⎟       ⎟   ⎜a ______________                a      a    \n",
       "q}        ⋅r ⋅(a - b)⎠       ⎠  ⋅⎝╲╱ \\overline{U} ⋅\\overline{q}        ⋅r ⋅(a \n",
       "──────────────────────────────────────────────────────────────────────────────\n",
       "                                                                              \n",
       "                                                                              \n",
       "\n",
       "                                                                              \n",
       "                                                                              \n",
       "        a                                                                     \n",
       "     ───────                                                                  \n",
       "     2⋅a - b                                                                  \n",
       "    ⎞        ⎛             ⎛                             -2⋅a + b  b        ⎞ \n",
       "    ⎟        ⎜             ⎜                             ────────  ─        ⎟ \n",
       "    ⎟        ⎜             ⎜a ______________                a      a        ⎟ \n",
       "- b)⎠       ⋅⎝a⋅(a - b)⋅log⎝╲╱ \\overline{U} ⋅\\overline{q}        ⋅r ⋅(a - b)⎠ \n",
       "──────────────────────────────────────────────────────────────────────────────\n",
       "                                                                              \n",
       "                                                                              \n",
       "\n",
       "                                                                              \n",
       "                                                                              \n",
       "                                                                              \n",
       "                                                                              \n",
       "                                                                              \n",
       "                                                ⎞                   1         \n",
       "                                                ⎟               1 + ─         \n",
       "  ⎛        ⎛            a - b  a - b⎞⎞          ⎟                   a         \n",
       "+ ⎝-a + log⎝\\overline{q}     ⋅r     ⎠⎠⋅(2⋅a - b)⎠ + \\overline{U}     ⋅\\overlin\n",
       "──────────────────────────────────────────────────────────────────────────────\n",
       "                                                                              \n",
       "                                                                              \n",
       "\n",
       "                    __________________________________________________________\n",
       "                   ╱                                                          \n",
       "                  ╱                                 ⎛                         \n",
       "                 ╱                                  ⎜                         \n",
       "                ╱                                   ⎜                         \n",
       "       2⋅b     ╱                                    ⎜   -a    ⎛               \n",
       "       ───    ╱                                     ⎜ ─────── ⎜               \n",
       "    2   a  a ╱                   2             b  b ⎜ 2⋅a - b ⎜a _____________\n",
       "e{q} ⋅r   ⋅╲╱        \\overline{U} ⋅\\overline{q} ⋅r ⋅⎝a       ⋅⎝╲╱ \\overline{U}\n",
       "──────────────────────────────────────────────────────────────────────────────\n",
       "                                                                              \n",
       "                                                                              \n",
       "\n",
       "____________________________________________                                  \n",
       "                                          b                                   \n",
       "                                     a   ⎞   ⎛                                \n",
       "                                  ───────⎟   ⎜                                \n",
       "                                  2⋅a - b⎟   ⎜                                \n",
       "              -2⋅a + b  b        ⎞       ⎟   ⎜                -a      ⎛       \n",
       "              ────────  ─        ⎟       ⎟   ⎜              ───────   ⎜       \n",
       "_                a      a        ⎟       ⎟   ⎜              2⋅a - b   ⎜a _____\n",
       " ⋅\\overline{q}        ⋅r ⋅(a - b)⎠       ⎠  ⋅⎝\\overline{q}⋅a       ⋅r⋅⎝╲╱ \\ove\n",
       "──────────────────────────────────────────────────────────────────────────────\n",
       "                                                                              \n",
       "                                                                              \n",
       "\n",
       "                                                                              \n",
       "                                                  b                           \n",
       "                                             a   ⎞  ⎛    ⎛                    \n",
       "                                          ───────⎟  ⎜    ⎜                    \n",
       "                                          2⋅a - b⎟  ⎜    ⎜                    \n",
       "                      -2⋅a + b  b        ⎞       ⎟  ⎜    ⎜ 3⋅a - b ⎛          \n",
       "                      ────────  ─        ⎟       ⎟  ⎜    ⎜ ─────── ⎜          \n",
       "_________                a      a        ⎟       ⎟  ⎜    ⎜ 2⋅a - b ⎜a ________\n",
       "rline{U} ⋅\\overline{q}        ⋅r ⋅(a - b)⎠       ⎠ ⋅⎝- b⋅⎝a       ⋅⎝╲╱ \\overli\n",
       "──────────────────────────────────────────────────────────────────────────────\n",
       "                                                              2               \n",
       "                                           a⋅(a - b)⋅(2⋅a - b)                \n",
       "\n",
       "                                                                              \n",
       "                                                                              \n",
       "                                          a                                   \n",
       "                                       ───────                                \n",
       "                                       2⋅a - b                                \n",
       "                   -2⋅a + b  b        ⎞                      ⎛                \n",
       "                   ────────  ─        ⎟                      ⎜                \n",
       "______                a      a        ⎟           ⎛ a - b⎞   ⎜a ______________\n",
       "ne{U} ⋅\\overline{q}        ⋅r ⋅(a - b)⎠       ⋅log⎝a     ⎠ + ⎝╲╱ \\overline{U} \n",
       "──────────────────────────────────────────────────────────────────────────────\n",
       "                                                                              \n",
       "                                                                              \n",
       "\n",
       "                                                                              \n",
       "                                                                              \n",
       "                                      a                                       \n",
       "                                   ───────                                    \n",
       "                                   2⋅a - b                                    \n",
       "             -2⋅a + b    b        ⎞        ⎛               ⎛                  \n",
       "             ────────    ─        ⎟        ⎜               ⎜                  \n",
       "                a        a        ⎟        ⎜               ⎜a ______________  \n",
       "⋅\\overline{q}        ⋅a⋅r ⋅(a - b)⎠       ⋅⎝- a⋅(a - b)⋅log⎝╲╱ \\overline{U} ⋅\\\n",
       "──────────────────────────────────────────────────────────────────────────────\n",
       "                                                                              \n",
       "                                                                              \n",
       "\n",
       "                                                                              \n",
       "                                                                              \n",
       "                                                                              \n",
       "                                                                              \n",
       "                                                                              \n",
       "           -2⋅a + b  b        ⎞                                               \n",
       "           ────────  ─        ⎟                                               \n",
       "              a      a        ⎟   ⎛       ⎛            a - b  a - b⎞⎞         \n",
       "overline{q}        ⋅r ⋅(a - b)⎠ + ⎝a - log⎝\\overline{q}     ⋅r     ⎠⎠⋅(2⋅a - b\n",
       "──────────────────────────────────────────────────────────────────────────────\n",
       "                                                                              \n",
       "                                                                              \n",
       "\n",
       "                                                                              \n",
       "                                                                              \n",
       "  ⎞                                                          a                \n",
       "  ⎟                                                       ───────             \n",
       "  ⎟                                                       2⋅a - b             \n",
       " ⎞⎟   ⎛                             -2⋅a + b    b        ⎞                    \n",
       " ⎟⎟   ⎜                             ────────    ─        ⎟                    \n",
       " ⎟⎟   ⎜a ______________                a        a        ⎟                    \n",
       ")⎠⎠ + ⎝╲╱ \\overline{U} ⋅\\overline{q}        ⋅a⋅r ⋅(a - b)⎠       ⋅(a - b)⋅(2⋅a\n",
       "──────────────────────────────────────────────────────────────────────────────\n",
       "                                                                              \n",
       "                                                                              \n",
       "\n",
       "                                                                              \n",
       "                                                                              \n",
       "          ⎛                                                              a   ⎞\n",
       "          ⎜                                                           ───────⎟\n",
       "          ⎜                                                           2⋅a - b⎟\n",
       "          ⎜   -a    ⎛                             -2⋅a + b  b        ⎞       ⎟\n",
       "          ⎜ ─────── ⎜                             ────────  ─        ⎟       ⎟\n",
       "     2    ⎜ 2⋅a - b ⎜a ______________                a      a        ⎟       ⎟\n",
       " - b) ⋅log⎝a       ⋅⎝╲╱ \\overline{U} ⋅\\overline{q}        ⋅r ⋅(a - b)⎠       ⎠\n",
       "──────────────────────────────────────────────────────────────────────────────\n",
       "                                                                              \n",
       "                                                                              \n",
       "\n",
       "                                                                              \n",
       "                                                                              \n",
       "                                                          a                   \n",
       "                                                       ───────                \n",
       "                                                       2⋅a - b                \n",
       "   ⎛                             -2⋅a + b    b        ⎞                       \n",
       "   ⎜                             ────────    ─        ⎟           ⎛           \n",
       "   ⎜a ______________                a        a        ⎟           ⎜           \n",
       " + ⎝╲╱ \\overline{U} ⋅\\overline{q}        ⋅a⋅r ⋅(a - b)⎠       ⋅log⎝(\\overline{\n",
       "──────────────────────────────────────────────────────────────────────────────\n",
       "                                                                              \n",
       "                                                                              \n",
       "\n",
       "                                                                              \n",
       "                                                                              \n",
       "                        ⎞              ⎛                                      \n",
       "                        ⎟              ⎜                                      \n",
       "                        ⎟              ⎜                                      \n",
       "                        ⎟    5⋅a - 2⋅b ⎜   -a    ⎛                            \n",
       "                      2⎞⎟    ───────── ⎜ ─────── ⎜                            \n",
       "     (a - b)⋅(2⋅a - b) ⎟⎟     2⋅a - b  ⎜ 2⋅a - b ⎜a ______________            \n",
       "q}⋅r)                  ⎠⎠ + a         ⋅⎝a       ⋅⎝╲╱ \\overline{U} ⋅\\overline{q\n",
       "──────────────────────────────────────────────────────────────────────────────\n",
       "                                                                              \n",
       "                                                                              \n",
       "\n",
       "                                        ______________________________________\n",
       "                             b         ╱                                      \n",
       "                        a   ⎞         ╱                                ⎛      \n",
       "                     ───────⎟        ╱                                 ⎜      \n",
       "                     2⋅a - b⎟       ╱                                  ⎜      \n",
       " -2⋅a + b  b        ⎞       ⎟      ╱                                   ⎜   -a \n",
       " ────────  ─        ⎟       ⎟     ╱                                    ⎜ ─────\n",
       "    a      a        ⎟       ⎟  a ╱                                b  b ⎜ 2⋅a -\n",
       "}        ⋅r ⋅(a - b)⎠       ⎠ ⋅╲╱        \\overline{U}⋅\\overline{q} ⋅r ⋅⎝a     \n",
       "──────────────────────────────────────────────────────────────────────────────\n",
       "                                                                              \n",
       "                                                                              \n",
       "\n",
       "_______________________________________________________________               \n",
       "                                                             b                \n",
       "                                                        a   ⎞                 \n",
       "                                                     ───────⎟                 \n",
       "                                                     2⋅a - b⎟                 \n",
       "   ⎛                             -2⋅a + b  b        ⎞       ⎟   ⎛             \n",
       "── ⎜                             ────────  ─        ⎟       ⎟   ⎜             \n",
       " b ⎜a ______________                a      a        ⎟       ⎟   ⎜a ___________\n",
       "  ⋅⎝╲╱ \\overline{U} ⋅\\overline{q}        ⋅r ⋅(a - b)⎠       ⎠  ⋅⎝╲╱ \\overline{\n",
       "──────────────────────────────────────────────────────────────────────────────\n",
       "                                                                              \n",
       "                                                                              \n",
       "\n",
       "                                                                              \n",
       "                                                                              \n",
       "                                       a                                      \n",
       "                                    ───────                                   \n",
       "                                    2⋅a - b    ⎛             a + 2            \n",
       "                -2⋅a + b  b        ⎞           ⎜             ─────            \n",
       "                ────────  ─        ⎟           ⎜               a              \n",
       "___                a      a        ⎟           ⎜ \\overline{U}     ⋅\\overline{q\n",
       "U} ⋅\\overline{q}        ⋅r ⋅(a - b)⎠       ⋅log⎝a                             \n",
       "──────────────────────────────────────────────────────────────────────────────\n",
       "                                                                              \n",
       "                                                                              \n",
       "\n",
       "                          ⎞\n",
       "                          ⎟\n",
       "                          ⎟\n",
       "                          ⎟\n",
       "        b⋅(a + 2)        ⎞⎟\n",
       "        ─────────        ⎟⎟\n",
       " b + 2      a            ⎟⎟\n",
       "}     ⋅r         ⋅(a - b)⎟⎟\n",
       "                         ⎠⎠\n",
       "───────────────────────────\n",
       "                           \n",
       "                           "
      ]
     },
     "execution_count": 1620,
     "metadata": {},
     "output_type": "execute_result"
    }
   ],
   "source": [
    "#Calculating solution for F* diff b\n",
    "F_diff_b = simplify(Fstar.diff(b)) \n",
    "F_diff_b "
   ]
  },
  {
   "cell_type": "code",
   "execution_count": 1701,
   "id": "6bc15ea4-0fee-4f8e-975b-805cc212966e",
   "metadata": {},
   "outputs": [
    {
     "data": {
      "image/png": "[encoded data removed]",
      "text/latex": [
       "$\\displaystyle 1$"
      ],
      "text/plain": [
       "1"
      ]
     },
     "execution_count": 1701,
     "metadata": {},
     "output_type": "execute_result"
    }
   ],
   "source": [
    "#Sympy is unable to plot this solution so we will substitute in reasonable parameters and take the sign of that\n",
    "param_values_FB = {a: 0.6, q: 10, U: 5, b: 0.4, r: 2}\n",
    "sign(F_diff_b.subs(param_values_FB))"
   ]
  },
  {
   "cell_type": "code",
   "execution_count": 1630,
   "id": "e2414cdd-35d8-4195-9ce8-24963b4dfa40",
   "metadata": {},
   "outputs": [
    {
     "data": {
      "image/png": "[encoded data removed]",
      "text/latex": [
       "$\\displaystyle \\frac{\\overline{q}^{\\frac{b}{a}} b r^{-1 + \\frac{b}{a}} \\left(\\overline{U} \\left(\\overline{q}^{- \\frac{2 a}{2 a - b}} a^{- \\frac{a}{2 a - b}} \\left(\\overline{U}^{\\frac{1}{a}} \\overline{q}^{\\frac{b}{a}} r^{\\frac{b}{a}} \\left(a - b\\right)\\right)^{\\frac{a}{2 a - b}}\\right)^{b}\\right)^{\\frac{1}{a}} \\left(\\overline{U}^{\\frac{1}{a}} r^{\\frac{b}{a}} \\left(a - b\\right)\\right)^{- \\frac{2 a}{2 a - b}} \\left(\\overline{U}^{\\frac{1}{a}} a r^{\\frac{b}{a}} \\left(a - b\\right)\\right)^{\\frac{a}{2 a - b}}}{2 a - b}$"
      ],
      "text/plain": [
       "                                 _____________________________________________\n",
       "                                ╱                                             \n",
       "                               ╱               ⎛                              \n",
       "                              ╱                ⎜                              \n",
       "                             ╱                 ⎜                              \n",
       "            b         b     ╱                  ⎜             -2⋅a      -a    ⎛\n",
       "            ─    -1 + ─    ╱                   ⎜            ───────  ─────── ⎜\n",
       "            a         a a ╱                    ⎜            2⋅a - b  2⋅a - b ⎜\n",
       "\\overline{q} ⋅b⋅r      ⋅╲╱        \\overline{U}⋅⎝\\overline{q}       ⋅a       ⋅⎝\n",
       "──────────────────────────────────────────────────────────────────────────────\n",
       "                                                                              \n",
       "\n",
       "____________________________________________________                          \n",
       "                                                  b                           \n",
       "                                             a   ⎞                            \n",
       "                                          ───────⎟                            \n",
       "                                          2⋅a - b⎟                            \n",
       "                             b  b        ⎞       ⎟   ⎛                  b     \n",
       "                             ─  ─        ⎟       ⎟   ⎜                  ─     \n",
       "a ______________             a  a        ⎟       ⎟   ⎜a ______________  a     \n",
       "╲╱ \\overline{U} ⋅\\overline{q} ⋅r ⋅(a - b)⎠       ⎠  ⋅⎝╲╱ \\overline{U} ⋅r ⋅(a -\n",
       "──────────────────────────────────────────────────────────────────────────────\n",
       "                     2⋅a - b                                                  \n",
       "\n",
       "                                                  \n",
       "                                                  \n",
       "     -2⋅a                                     a   \n",
       "    ───────                                ───────\n",
       "    2⋅a - b                                2⋅a - b\n",
       "   ⎞        ⎛                    b        ⎞       \n",
       "   ⎟        ⎜                    ─        ⎟       \n",
       "   ⎟        ⎜a ______________    a        ⎟       \n",
       " b)⎠       ⋅⎝╲╱ \\overline{U} ⋅a⋅r ⋅(a - b)⎠       \n",
       "──────────────────────────────────────────────────\n",
       "                                                  "
      ]
     },
     "execution_count": 1630,
     "metadata": {},
     "output_type": "execute_result"
    }
   ],
   "source": [
    "#Calculating solution for F* diff r\n",
    "F_diff_R = simplify(Fstar.diff(r))\n",
    "F_diff_R"
   ]
  },
  {
   "cell_type": "code",
   "execution_count": 1626,
   "id": "47251c5a-a79e-4597-ba9d-88a11d7823b7",
   "metadata": {},
   "outputs": [
    {
     "name": "stderr",
     "output_type": "stream",
     "text": [
      "<string>:1: RuntimeWarning: invalid value encountered in scalar power\n"
     ]
    },
    {
     "data": {
      "image/png": "[encoded data removed]",
      "text/plain": [
       "<Figure size 640x480 with 1 Axes>"
      ]
     },
     "metadata": {},
     "output_type": "display_data"
    },
    {
     "data": {
      "text/plain": [
       "<sympy.plotting.plot.Plot at 0x280238830>"
      ]
     },
     "execution_count": 1626,
     "metadata": {},
     "output_type": "execute_result"
    }
   ],
   "source": [
    "param_valuesFR = {a: 0.6, q: 10, U: 5, b: 0.4}\n",
    "plot(F_diff_R.subs(param_valuesFR), xlim = [0,10], ylim = [-5, 5])"
   ]
  },
  {
   "cell_type": "code",
   "execution_count": 1628,
   "id": "6871bf9f-4b1d-4486-bbb3-9fd798bcbc3d",
   "metadata": {},
   "outputs": [
    {
     "data": {
      "image/png": "[encoded data removed]",
      "text/latex": [
       "$\\displaystyle \\frac{\\overline{U}^{-1 + \\frac{1}{a}} \\left(\\overline{q} r\\right)^{\\frac{b}{a}} \\left(\\overline{U}^{\\frac{1}{a}} r^{\\frac{b}{a}} \\left(a - b\\right)\\right)^{- \\frac{2 a}{2 a - b}} \\left(\\overline{U}^{\\frac{1}{a}} a r^{\\frac{b}{a}} \\left(a - b\\right)\\right)^{\\frac{a}{2 a - b}} \\left(\\left(\\overline{q}^{- \\frac{2 a}{2 a - b}} a^{- \\frac{a}{2 a - b}} \\left(\\overline{U}^{\\frac{1}{a}} \\overline{q}^{\\frac{b}{a}} r^{\\frac{b}{a}} \\left(a - b\\right)\\right)^{\\frac{a}{2 a - b}}\\right)^{b}\\right)^{\\frac{1}{a}}}{2 a - b}$"
      ],
      "text/plain": [
       "                                                                              \n",
       "                                                                              \n",
       "                                                                   -2⋅a       \n",
       "                                                                  ───────     \n",
       "                                                                  2⋅a - b     \n",
       "                 1                 b ⎛                  b        ⎞        ⎛   \n",
       "            -1 + ─                 ─ ⎜                  ─        ⎟        ⎜   \n",
       "                 a                 a ⎜a ______________  a        ⎟        ⎜a _\n",
       "\\overline{U}      ⋅(\\overline{q}⋅r) ⋅⎝╲╱ \\overline{U} ⋅r ⋅(a - b)⎠       ⋅⎝╲╱ \n",
       "──────────────────────────────────────────────────────────────────────────────\n",
       "                                                                              \n",
       "\n",
       "                                            __________________________________\n",
       "                                           ╱                                  \n",
       "                              a           ╱  ⎛                                \n",
       "                           ───────       ╱   ⎜                                \n",
       "                           2⋅a - b      ╱    ⎜                                \n",
       "                 b        ⎞            ╱     ⎜             -2⋅a      -a    ⎛  \n",
       "                 ─        ⎟           ╱      ⎜            ───────  ─────── ⎜  \n",
       "_____________    a        ⎟        a ╱       ⎜            2⋅a - b  2⋅a - b ⎜a \n",
       "\\overline{U} ⋅a⋅r ⋅(a - b)⎠       ⋅╲╱        ⎝\\overline{q}       ⋅a       ⋅⎝╲╱\n",
       "──────────────────────────────────────────────────────────────────────────────\n",
       "                     2⋅a - b                                                  \n",
       "\n",
       "__________________________________________________\n",
       "                                                b \n",
       "                                           a   ⎞  \n",
       "                                        ───────⎟  \n",
       "                                        2⋅a - b⎟  \n",
       "                           b  b        ⎞       ⎟  \n",
       "                           ─  ─        ⎟       ⎟  \n",
       "______________             a  a        ⎟       ⎟  \n",
       " \\overline{U} ⋅\\overline{q} ⋅r ⋅(a - b)⎠       ⎠  \n",
       "──────────────────────────────────────────────────\n",
       "                                                  "
      ]
     },
     "execution_count": 1628,
     "metadata": {},
     "output_type": "execute_result"
    }
   ],
   "source": [
    "#Calculating solution for F* diff U \n",
    "F_diff_U = simplify(Fstar.diff(U))\n",
    "F_diff_U"
   ]
  },
  {
   "cell_type": "code",
   "execution_count": 1717,
   "id": "01e9abf3-f1f6-491c-966a-0b39eb476545",
   "metadata": {},
   "outputs": [
    {
     "name": "stderr",
     "output_type": "stream",
     "text": [
      "<string>:1: RuntimeWarning: invalid value encountered in scalar power\n"
     ]
    },
    {
     "data": {
      "image/png": "[encoded data removed]",
      "text/plain": [
       "<Figure size 640x480 with 1 Axes>"
      ]
     },
     "metadata": {},
     "output_type": "display_data"
    },
    {
     "data": {
      "text/plain": [
       "<sympy.plotting.plot.Plot at 0x283c7cc80>"
      ]
     },
     "execution_count": 1717,
     "metadata": {},
     "output_type": "execute_result"
    }
   ],
   "source": [
    "param_valuesFU = {a: 0.6, q: 10, r: 2.5, b: 0.4}\n",
    "plot(F_diff_U.subs(param_valuesFU), xlim = [0,10], ylim = [-5, 5])"
   ]
  },
  {
   "cell_type": "code",
   "execution_count": 1860,
   "id": "4e46badd-5feb-4b0f-af8b-267307721a37",
   "metadata": {},
   "outputs": [
    {
     "data": {
      "image/png": "[encoded data removed]",
      "text/latex": [
       "$\\displaystyle 0$"
      ],
      "text/plain": [
       "0"
      ]
     },
     "execution_count": 1860,
     "metadata": {},
     "output_type": "execute_result"
    }
   ],
   "source": [
    "F_diff_q = simplify(Fstar.diff(q))\n",
    "F_diff_q"
   ]
  },
  {
   "cell_type": "markdown",
   "id": "0baeff36-f34c-4c9f-a57e-dc82c51fc433",
   "metadata": {},
   "source": [
    "# D. Conclusion and Discussion <a class=\"anchor\" id=\"conclusion\"></a>\n",
    "\n",
    "## 1. Optimal Choices <a class=\"anchor\" id=\"choices\"></a>\n",
    "---\n",
    "####  F*\n",
    "\n",
    "F* defined in the line labeled 1033, and is a very long complex equation. To break it down we will look at the numerator and denominator separately, then weight them against each other to get a better picture. I will examine the dominating portions of the equations for simplicity. All parts mentioned are multiplied together, or exponentiated, which will be specified. \n",
    "\n",
    "\n",
    "The Numerator: \n",
    "\n",
    "The first terms $a^{a/(2a-b)}$ ensure that more effective research and production (higher ${\\alpha}$) raises the impact that R&D will have on reaching the utility goals. \n",
    "\n",
    "The following term multiplied by the previous $\\overline{U}^{b}*\\overline{q}^{b}*r^{b}$ demonstrates the total utility goal considering the desired drug, number of patients, and the revenue factor. By exponentiating this with the harms value, ${\\beta}$ ,it also depends on the weight of harms in our model.\n",
    "\n",
    "The following term is nested, and identical to the denominator, discussed below, but with two key differences: it is exponentiated to ${\\beta}$, and divided by our first term, $a^{a/(2a-b)}$. This serves the purpose to demonstrate that F* will increase with a higher utility target, and by that our advancements dominate our harms, however by putting it to the power of ${\\beta}$, it is affected by the sensitivity to harms.\n",
    "\n",
    "The Denominator: \n",
    "\n",
    "The first term is $\\overline{q}$ multiplying the rest of the numerator. This suggests that as $\\overline{q}$ increases, F* will also increase. This result makes sense because when $\\overline{q}$ is large, the R\\&D costs are spread along more patients, and the firm will have more individuals to sell to meaning they can invest more in R\\&D.\n",
    "\n",
    "The next part of the numerator is $\\overline{U}^{1/a}$, this result is also intuitive because it means F* scales with utility, such that when the drug must deliver more to the patient more research is required. Additionally the $\\frac{1}{a}$ value means that when the effectiveness of research ${\\alpha}$ is closer to 1, they will need to invest less to achieve $\\overline{U}$, also a intuitive result.\n",
    "\n",
    "After this, there $r^\\frac{\\beta}{\\alpha}$ which demonstrates that, since ${\\alpha} > {\\beta}$, when r is larger it will reduce the marginal utility of F*. \n",
    "\n",
    "Lastly, a component which exponentiates the whole function, and is found multiplied within it is ${\\alpha} - {\\beta}$, the use of this tool in the numerator represents that when advancments and harms are close, the company must spend more on R\\&D to make up for it.\n",
    "\n",
    "F* summarized: This long equation recognizes the interplay between utility and advancements, versus utility and harms. It helps us find the balance between a complex set of choices.\n",
    "\n",
    "#### P* \n",
    "\n",
    "$p_{d}^*$ defined in the line labeled 1133, and is a very long complex equation. I will examine it similarly to how I analyzed F*, by breaking it down. \n",
    "\n",
    "The first part of the numerator is $\\overline{U}^{1/a}$, this result is also intuitive because it means F* scales with utility, such that when the drug must deliver more to the patient more research is required. Additionally the $\\frac{1}{a}$ value means that when the effectiveness of research ${\\alpha}$ is closer to 1, they will need to invest less to achieve $\\overline{U}$, also a intuitive result.\n",
    "\n",
    "The next part $\\overline{q}^{-2{\\alpha}+b/{\\alpha}}$ changes p* based on the number of patients, and is weighted by the strength of advancements versus harms. P* increases when $\\overline{q}$ increases because it means that the R\\&D expenditure is spread more widely amongst patients allowing the firm to spend more on production and produce less harm.\n",
    "\n",
    "After this, there $r^\\frac{\\beta}{\\alpha}$ which demonstrates that, since ${\\alpha} > {\\beta}$, when r is larger it will increase the amount of harm generated by putting more of the R/&D recoupment on patients. This value is dependent on the weight of ${\\beta}$ vs. ${\\alpha}$, so when harms carry a higher weight increasing r will hurt achieving utility even more.\n",
    "\n",
    "The last portion multiplied together is (${\\alpha} - {\\beta}$) which demonstrates that when harms and advancements are weighted closely, the overall expression will be lower, lessening the ability to achieve utility goals.\n",
    "\n",
    "The previous portion is divided by ${\\alpha}$ which demonstrates how the harms associated with $p_{d}^*$ decreases as advancements becomes weighted higher\n",
    "\n",
    "The exponent $\\frac{{\\alpha}}{2{\\alpha}-{\\beta}}$ will change the sensitivty to advancements and harms, when they are close the sensitivty to harmful factors will be higher.\n",
    "\n",
    "## 2. comparative statics <a class=\"anchor\" id=\"compare\"></a>\n",
    "---\n",
    "\n",
    "The solutions from the comparative statics result in long nonlinear and very confusing equations. I don't think it would be practical to break them down like I did for $p_{d}^{*}$ and F*, and I have already discussed the effects of different fixed variables and factors on the optimal choices. So rather than trying to decipher what precisely each solution means, I will speak generally to whether or not they increase or decrease the optimal choice. These functions are all non-linear, and depend on the values of ${\\alpha}$ and ${\\beta}$ in regards to increasing or decreasing, and then sensitivity to those effects but since we assume they equal 1 when added, and ${\\alpha}$ > ${\\beta}$ this allows us to speak to whether or not they are > 0, or = to 0. I have graphed these functions to see if they always lie above the x-axis or below it, so I can speak to whether or not they increase or decrease the optimal choice.\n",
    "\n",
    "### $P_{d}^{*}$ comparative statics\n",
    "\n",
    "${\\alpha}$ > 0, this makes sense because if the effectiveness of R&D increases, we are able to spend more on production costs since less will be spent on R&D. \n",
    "\n",
    "${\\beta}$ < 0, this makes sense because if the degree of harms increase we will want to reduce things contributing to harms, such as production price, which is related to the recoupment of invstment. \n",
    "\n",
    "Both these graphs have odd shapes, where they suddenly end or begin at seemingly random points. This is actually intuitive as it resembles our assumption that ${\\alpha} > {\\beta}$. \n",
    "\n",
    "q < 0, Since the $p{d}$ is associated with revenue, when the patient population gets larger the sale to patients can be smaller since the R&D recoupment will be distributed amongst a larger group. This also means that the firm benefits from sale to a larger patient population, but when it is small that the price burden is higher on patients, reflecting the purpose of this model to highlight the harm on generated by costs patients.\n",
    "\n",
    "r > 1, since advancements outweigh harms in our model, even when r gets larger we will still spend more on production costs to help overcome the harms created by increasing revenue. \n",
    "\n",
    "$\\overline{U}$ > 0, this result suggests that as U gets larger, we will need to spend more on production costs because they contribute to utility more than they do harms.  \n",
    "\n",
    "### $F^{*}$ comparative statics\n",
    "\n",
    "${\\alpha}$ < 0, which is an intuitive result because as the effectiveness of advancement efforts increases, less R&D expenditure is needed to reach the desired utility level.\n",
    "\n",
    "${\\beta}$  > 1 , which is also an intuitive result because as harms increase more R&D spending will be needed to makeup for\n",
    "\n",
    "$\\overline{q}$ = 0, this result may seem initially as a limitation of the model but is actually intuitive. Since rare drug companies are selling to very small amounts of patients, they do not care about the number of patients for determining the value of a project because they are selling to such a small population already. This result also concludes that when spending money on researching the drug companies should not consider the size of their patient population, putting their needs above money. This ultimately actually demonstrates how this model puts patients first in regard to finding treatment for them.\n",
    "\n",
    "r > 0, since r generates more harms F* will increase because more research will need to be done to offset the harms created by it. \n",
    "\n",
    "$\\overline{U}$ > 0, more R&D will need to be done to achieve the desired utility of the drug so F* will increase.\n",
    "\n",
    "## 4. Model Limitations <a class=\"anchor\" id=\"limits\"></a>\n",
    "---\n",
    "\n",
    "I have identified three main limitations to my model, the first is policy / incentive considerations, the second is a lack of relationship between R&D investment and the revenue coeffecient in the constraint, and the third is assuming advancement outweigh harms. \n",
    "\n",
    "When I was researching rare drug companies for my project, I found that the Orphan Drug Act of 1983 was crucial to the development of these kinds of firms. This act offers incentives to start rare drug companies by providing them with market excluiveness, tax credits and freedom from approval fees by the FDA. These incentives are demonstrated in my model by assuming F takes on all these benefits, however this is not an entirely realistic view. The firm takes on risk when they begin research on a rare disease drug, and can only receive these benefits if their drug meets the requirements to be considered a rare drug. My originally incorporated these incentives by having the cost be $P_{d}\\overline{q} + F -I$, however the results from it were not intuitive, nor solvable suggesting that incentives would need to be incorporated in another way. Potentially this could be done by making incentives a function of patient population (the more rare the disease, greater benefits may be needed), and as some proportion of R\\&D requirement. \n",
    "\n",
    "Another limitation of my model is that the revenue coefficient is not tied to R\\&D investments directly. In the model of advancements vs. harms r has a positive association with R\\&D investment, which makes sense given that we are assuming the advancements outweigh the harms in this model. I believe a better version of this model would have r as a function of R\\&D in such a way that it increases as R\\&D gets larger, but not in such a fashion that it is harmful to patients. This would require balancing R&\\D investment with another harms function associated with revenue, which would not easily be done in an expenditure minimization problem. This limitation could potentially be analyzed further in a profit maximization problem. \n",
    "\n",
    "\n",
    "## 5. Extentsions <a class=\"anchor\" id=\"extensions\"></a>\n",
    "\n",
    "Despite these limitations the model still has extensions to the decisions firms should make when considering R\\&D investment and production expenditure. This function creates a dynamic relationship between these two choices and how companies should go about selecting their optimal choices to achieve $p_{d}^{*}$ and $F^{*}$. Using this model rare drug companies could analyze how optimal their choices are when attempting to bring the most utility to the patient. The main conclusions from this, is that they are going to want to mitigate harms as much as possible, and maximize R&D in a combination that produces the drug desired. This model also promotes the consideration that pricing can harm patients. Lastly, the cost function derived from this model could be used to make a profit maximization problem that incorporates the factors of harm into it. "
   ]
  },
  {
   "cell_type": "markdown",
   "id": "6c206400-4f48-4aef-bf45-fdb60f3d62cb",
   "metadata": {},
   "source": [
    "# AI Memo and References <a class=\"anchor\" id=\"ref\"></a>\n",
    "\n",
    "\n",
    "### ChatGPT (and Stack Overflow)\n",
    "In this project ChatGPT was used significantly for brainstorming and debugging my code. An example of this would be I prompt chatGPT: how do I represent different factors having diminishing returns in a model? And it would return that a natural log function could be used to accomplish this goal. I would then come up with the way this would be used in my model and its interpretation. In the end ChatGPT did not actually have a large role in much of my project in terms of the final project, after a couple rounds of trial and error I was able to refine and brainstorm on my own, and ultimately after much much trial and error I can confidently say the results I produced were my own. \n",
    "\n",
    "In terms of debugging ChatGPT was not super useful, however it offered insights into ideas like numerical analysis and often fixing my syntax issues. It often came back with a solution more complex than my own so I did not rely on it much for debugging. Stack Overflow more often for debugging as it is a forum where people had similar issues to me. \n",
    "\n",
    "## References\n",
    "\n",
    "### I used Professor Leshui's github page quite a bit found here: \n",
    "\n",
    "https://github.com/lhebates/BatesEcon260/blob/master/firm%20theory%20-%201.1%20production%20function%20and%20isoquant%20curves%20-%20CD%20production%20function.ipynb , I primarily used his Jupyter Notebooks on comparative statics, isocost and isoquant lines, and cost minimization problems for this project. \n",
    "\n",
    "### I also read the following papers to generate and research my topic of interest:\n",
    "\n",
    "   Pearson, Isobel, Ben Rothwell, Andrew Olaye, and Christopher Knight. “Economic Modeling Considerations for Rare Diseases.” Value in \n",
    "Health 21, no. 5 (May 2018): 515–24. https://doi.org/10.1016/j.jval.2018.02.008.\n",
    "\n",
    "   Schlander, Michael, Silvio Garattini, Peter Kolominsky-Rabas, Erik Nord, Ulf Persson, Maarten Postma, Jeff Richardson, et al. \n",
    "“Determining the Value of Medical Technologies to Treat Ultra-Rare Disorders: A Consensus Statement.” Journal of Market Access &amp; Health Policy 4, no. 1 (January 2016): 33039. https://doi.org/10.3402/jmahp.v4.33039. \n",
    "\n",
    "    \n",
    "   Sequeira, Ana Rita, Emmanouil Mentzakis, Olga Archangelidi, and Francesco Paolucci. “The Economic and Health Impact of Rare Diseases: A \n",
    "Meta-Analysis.” Health Policy and Technology 10, no. 1 (March 2021): 32–44. https://doi.org/10.1016/j.hlpt.2021.02.002. \n",
    "\n"
   ]
  },
  {
   "cell_type": "code",
   "execution_count": null,
   "id": "2c8f6790-045c-4a1b-8a3e-835c15c37877",
   "metadata": {},
   "outputs": [],
   "source": []
  }
 ],
 "metadata": {
  "kernelspec": {
   "display_name": "Python 3 (ipykernel)",
   "language": "python",
   "name": "python3"
  },
  "language_info": {
   "codemirror_mode": {
    "name": "ipython",
    "version": 3
   },
   "file_extension": ".py",
   "mimetype": "text/x-python",
   "name": "python",
   "nbconvert_exporter": "python",
   "pygments_lexer": "ipython3",
   "version": "3.12.4"
  }
 },
 "nbformat": 4,
 "nbformat_minor": 5
}
